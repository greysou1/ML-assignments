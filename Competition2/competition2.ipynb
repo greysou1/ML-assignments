{
 "cells": [
  {
   "cell_type": "code",
   "execution_count": 1,
   "metadata": {},
   "outputs": [],
   "source": [
    "import numpy as np\n",
    "import pandas as pd\n",
    "import matplotlib.pyplot as plt\n",
    "import seaborn as sb\n",
    "  \n",
    "from sklearn.model_selection import train_test_split\n",
    "from sklearn.preprocessing import LabelEncoder, StandardScaler\n",
    "from sklearn import metrics\n",
    "from sklearn.svm import SVC\n",
    "from xgboost import XGBClassifier\n",
    "from sklearn.linear_model import LogisticRegression\n",
    "  \n",
    "import warnings\n",
    "warnings.filterwarnings('ignore')"
   ]
  },
  {
   "cell_type": "code",
   "execution_count": 99,
   "metadata": {},
   "outputs": [],
   "source": [
    "PATH = 'spaceship-titanic'\n",
    "df = pd.read_csv(f'{PATH}/train.csv')\n",
    "df_test = pd.read_csv(f'{PATH}/test.csv')"
   ]
  },
  {
   "cell_type": "code",
   "execution_count": 100,
   "metadata": {},
   "outputs": [
    {
     "data": {
      "text/html": [
       "<div>\n",
       "<style scoped>\n",
       "    .dataframe tbody tr th:only-of-type {\n",
       "        vertical-align: middle;\n",
       "    }\n",
       "\n",
       "    .dataframe tbody tr th {\n",
       "        vertical-align: top;\n",
       "    }\n",
       "\n",
       "    .dataframe thead th {\n",
       "        text-align: right;\n",
       "    }\n",
       "</style>\n",
       "<table border=\"1\" class=\"dataframe\">\n",
       "  <thead>\n",
       "    <tr style=\"text-align: right;\">\n",
       "      <th></th>\n",
       "      <th>RoomService</th>\n",
       "      <th>FoodCourt</th>\n",
       "      <th>ShoppingMall</th>\n",
       "      <th>Spa</th>\n",
       "      <th>VRDeck</th>\n",
       "    </tr>\n",
       "    <tr>\n",
       "      <th>VIP</th>\n",
       "      <th></th>\n",
       "      <th></th>\n",
       "      <th></th>\n",
       "      <th></th>\n",
       "      <th></th>\n",
       "    </tr>\n",
       "  </thead>\n",
       "  <tbody>\n",
       "    <tr>\n",
       "      <th>False</th>\n",
       "      <td>215.76</td>\n",
       "      <td>405.71</td>\n",
       "      <td>174.27</td>\n",
       "      <td>274.94</td>\n",
       "      <td>291.33</td>\n",
       "    </tr>\n",
       "    <tr>\n",
       "      <th>True</th>\n",
       "      <td>519.91</td>\n",
       "      <td>1747.38</td>\n",
       "      <td>343.61</td>\n",
       "      <td>1403.83</td>\n",
       "      <td>1131.24</td>\n",
       "    </tr>\n",
       "  </tbody>\n",
       "</table>\n",
       "</div>"
      ],
      "text/plain": [
       "       RoomService  FoodCourt  ShoppingMall     Spa  VRDeck\n",
       "VIP                                                        \n",
       "False       215.76     405.71        174.27  274.94  291.33\n",
       "True        519.91    1747.38        343.61 1403.83 1131.24"
      ]
     },
     "execution_count": 100,
     "metadata": {},
     "output_type": "execute_result"
    }
   ],
   "source": [
    "col = df.loc[:,'RoomService':'VRDeck'].columns\n",
    "col_test = df_test.loc[:,'RoomService':'VRDeck'].columns\n",
    "\n",
    "df.groupby('VIP')[col].mean()\n",
    "df_test.groupby('VIP')[col_test].mean()"
   ]
  },
  {
   "cell_type": "code",
   "execution_count": 101,
   "metadata": {},
   "outputs": [
    {
     "data": {
      "text/html": [
       "<div>\n",
       "<style scoped>\n",
       "    .dataframe tbody tr th:only-of-type {\n",
       "        vertical-align: middle;\n",
       "    }\n",
       "\n",
       "    .dataframe tbody tr th {\n",
       "        vertical-align: top;\n",
       "    }\n",
       "\n",
       "    .dataframe thead th {\n",
       "        text-align: right;\n",
       "    }\n",
       "</style>\n",
       "<table border=\"1\" class=\"dataframe\">\n",
       "  <thead>\n",
       "    <tr style=\"text-align: right;\">\n",
       "      <th></th>\n",
       "      <th>RoomService</th>\n",
       "      <th>FoodCourt</th>\n",
       "      <th>ShoppingMall</th>\n",
       "      <th>Spa</th>\n",
       "      <th>VRDeck</th>\n",
       "    </tr>\n",
       "    <tr>\n",
       "      <th>CryoSleep</th>\n",
       "      <th></th>\n",
       "      <th></th>\n",
       "      <th></th>\n",
       "      <th></th>\n",
       "      <th></th>\n",
       "    </tr>\n",
       "  </thead>\n",
       "  <tbody>\n",
       "    <tr>\n",
       "      <th>False</th>\n",
       "      <td>347.10</td>\n",
       "      <td>701.53</td>\n",
       "      <td>281.57</td>\n",
       "      <td>474.51</td>\n",
       "      <td>493.67</td>\n",
       "    </tr>\n",
       "    <tr>\n",
       "      <th>True</th>\n",
       "      <td>0.00</td>\n",
       "      <td>0.00</td>\n",
       "      <td>0.00</td>\n",
       "      <td>0.00</td>\n",
       "      <td>0.00</td>\n",
       "    </tr>\n",
       "  </tbody>\n",
       "</table>\n",
       "</div>"
      ],
      "text/plain": [
       "           RoomService  FoodCourt  ShoppingMall    Spa  VRDeck\n",
       "CryoSleep                                                     \n",
       "False           347.10     701.53        281.57 474.51  493.67\n",
       "True              0.00       0.00          0.00   0.00    0.00"
      ]
     },
     "execution_count": 101,
     "metadata": {},
     "output_type": "execute_result"
    }
   ],
   "source": [
    "df.groupby('CryoSleep')[col].mean()\n",
    "df_test.groupby('CryoSleep')[col_test].mean()"
   ]
  },
  {
   "cell_type": "code",
   "execution_count": 102,
   "metadata": {},
   "outputs": [],
   "source": [
    "temp = df['CryoSleep'] == True\n",
    "df.loc[temp, col] = 0.0\n",
    "\n",
    "temp = df_test['CryoSleep'] == True\n",
    "df_test.loc[temp, col_test] = 0.0"
   ]
  },
  {
   "cell_type": "code",
   "execution_count": 103,
   "metadata": {},
   "outputs": [],
   "source": [
    "for c in col:\n",
    "\tfor val in [True, False]:\n",
    "\t\ttemp = df['VIP'] == val\n",
    "\t\tk = df[temp].mean()\n",
    "\t\tdf.loc[temp, c] = df.loc[temp, c].fillna(k)\n",
    "\n",
    "for c in col_test:\n",
    "\tfor val in [True, False]:\n",
    "\t\ttemp = df_test['VIP'] == val\n",
    "\t\tk = df_test[temp].mean()\n",
    "\t\tdf_test.loc[temp, c] = df_test.loc[temp, c].fillna(k)\t\t"
   ]
  },
  {
   "cell_type": "code",
   "execution_count": 104,
   "metadata": {},
   "outputs": [],
   "source": [
    "col = 'HomePlanet'\n",
    "temp = df['VIP'] == False\n",
    "df.loc[temp, col] = df.loc[temp, col].fillna('Earth')\n",
    "\n",
    "temp = df['VIP'] == True\n",
    "df.loc[temp, col] = df.loc[temp, col].fillna('Europa')\n",
    "\n",
    "col_test = 'HomePlanet'\n",
    "temp = df_test['VIP'] == False\n",
    "df_test.loc[temp, col_test] = df_test.loc[temp, col_test].fillna('Earth')\n",
    "\n",
    "temp = df_test['VIP'] == True\n",
    "df_test.loc[temp, col_test] = df_test.loc[temp, col_test].fillna('Europa')"
   ]
  },
  {
   "cell_type": "code",
   "execution_count": 105,
   "metadata": {},
   "outputs": [],
   "source": [
    "temp = df[df['Age'] < 61]['Age'].mean()\n",
    "df['Age'] = df['Age'].fillna(temp)\n",
    "\n",
    "temp = df_test[df_test['Age'] < 61]['Age'].mean()\n",
    "df_test['Age'] = df_test['Age'].fillna(temp)"
   ]
  },
  {
   "cell_type": "code",
   "execution_count": 106,
   "metadata": {},
   "outputs": [
    {
     "data": {
      "text/plain": [
       "0"
      ]
     },
     "execution_count": 106,
     "metadata": {},
     "output_type": "execute_result"
    }
   ],
   "source": [
    "for col in df.columns:\n",
    "    # Check for null values presence\n",
    "    if df[col].isnull().sum() == 0:\n",
    "        continue\n",
    "          \n",
    "    # If the data type is categorical filling by mode.\n",
    "    if df[col].dtype == object or df[col].dtype == bool:\n",
    "        df[col] = df[col].fillna(df[col].mode()[0])\n",
    "          \n",
    "    # Else by mean\n",
    "    else:\n",
    "        df[col] = df[col].fillna(df[col].mean())\n",
    "  \n",
    "df.isnull().sum().sum()\n",
    "\n",
    "\n",
    "for col in df_test.columns:\n",
    "    # Check for null values presence\n",
    "    if df_test[col].isnull().sum() == 0:\n",
    "        continue\n",
    "          \n",
    "    # If the data type is categorical filling by mode.\n",
    "    if df_test[col].dtype == object or df_test[col].dtype == bool:\n",
    "        df_test[col] = df_test[col].fillna(df_test[col].mode()[0])\n",
    "          \n",
    "    # Else by mean\n",
    "    else:\n",
    "        df_test[col] = df_test[col].fillna(df_test[col].mean())\n",
    "  \n",
    "df_test.isnull().sum().sum()"
   ]
  },
  {
   "cell_type": "code",
   "execution_count": 107,
   "metadata": {},
   "outputs": [],
   "source": [
    "new = df[\"PassengerId\"].str.split(\"_\", n=1, expand=True)\n",
    "df[\"RoomNo\"] = new[0].astype(int)\n",
    "df[\"PassengerNo\"] = new[1].astype(int)\n",
    "  \n",
    "df.drop(['PassengerId', 'Name'],\n",
    "        axis=1, inplace=True)\n",
    "\n",
    "new = df_test[\"PassengerId\"].str.split(\"_\", n=1, expand=True)\n",
    "df_test[\"RoomNo\"] = new[0].astype(int)\n",
    "df_test[\"PassengerNo\"] = new[1].astype(int)\n",
    "  \n",
    "df_test.drop(['PassengerId', 'Name'],\n",
    "        axis=1, inplace=True)"
   ]
  },
  {
   "cell_type": "code",
   "execution_count": 108,
   "metadata": {},
   "outputs": [],
   "source": [
    "data = df['RoomNo']\n",
    "for i in range(df.shape[0]):\n",
    "    temp = data == data[i]\n",
    "    df['PassengerNo'][i] = (temp).sum()\n",
    "\n",
    "data_test = df_test['RoomNo']\n",
    "for i in range(df_test.shape[0]):\n",
    "    temp = data_test == data_test[i]\n",
    "    df_test['PassengerNo'][i] = (temp).sum()    "
   ]
  },
  {
   "cell_type": "code",
   "execution_count": 109,
   "metadata": {},
   "outputs": [
    {
     "data": {
      "image/png": "[encoded data removed]",
      "text/plain": [
       "<Figure size 432x288 with 1 Axes>"
      ]
     },
     "metadata": {
      "needs_background": "light"
     },
     "output_type": "display_data"
    }
   ],
   "source": [
    "df.drop(['RoomNo'], axis=1,\n",
    "\t\tinplace=True)\n",
    "df_test.drop(['RoomNo'], axis=1,\n",
    "\t\tinplace=True)\n",
    "sb.countplot(data=df,\n",
    "\t\t\tx = 'PassengerNo',\n",
    "\t\t\thue='VIP')\n",
    "plt.show()"
   ]
  },
  {
   "cell_type": "code",
   "execution_count": 110,
   "metadata": {},
   "outputs": [],
   "source": [
    "new = df[\"Cabin\"].str.split(\"/\", n=2, expand=True)\n",
    "data[\"F1\"] = new[0]\n",
    "df[\"F2\"] = new[1].astype(int)\n",
    "df[\"F3\"] = new[2]\n",
    "\n",
    "df.drop(['Cabin'], axis=1,\n",
    "\t\tinplace=True)\n",
    "\n",
    "new_test = df_test[\"Cabin\"].str.split(\"/\", n=2, expand=True)\n",
    "data_test[\"F1\"] = new_test[0]\n",
    "df_test[\"F2\"] = new_test[1].astype(int)\n",
    "df_test[\"F3\"] = new_test[2]\n",
    "\n",
    "df_test.drop(['Cabin'], axis=1,\n",
    "\t\tinplace=True)\t\t"
   ]
  },
  {
   "cell_type": "code",
   "execution_count": 111,
   "metadata": {},
   "outputs": [],
   "source": [
    "df['LeasureBill'] = df['RoomService'] + df['FoodCourt']\\\n",
    "+ df['ShoppingMall'] + df['Spa'] + df['VRDeck']\n",
    "\n",
    "df_test['LeasureBill'] = df_test['RoomService'] + df_test['FoodCourt']\\\n",
    "+ df_test['ShoppingMall'] + df_test['Spa'] + df_test['VRDeck']"
   ]
  },
  {
   "cell_type": "code",
   "execution_count": 112,
   "metadata": {},
   "outputs": [
    {
     "data": {
      "image/png": "[encoded data removed]",
      "text/plain": [
       "<Figure size 432x288 with 1 Axes>"
      ]
     },
     "metadata": {},
     "output_type": "display_data"
    }
   ],
   "source": [
    "x = df['Transported'].value_counts()\n",
    "plt.pie(x.values,\n",
    "\t\tlabels=x.index,\n",
    "\t\tautopct='%1.1f%%')\n",
    "plt.show()"
   ]
  },
  {
   "cell_type": "code",
   "execution_count": 113,
   "metadata": {},
   "outputs": [
    {
     "data": {
      "image/png": "[encoded data removed]",
      "text/plain": [
       "<Figure size 432x288 with 1 Axes>"
      ]
     },
     "metadata": {
      "needs_background": "light"
     },
     "output_type": "display_data"
    }
   ],
   "source": [
    "df.groupby('VIP').mean()['LeasureBill'].plot.bar()\n",
    "plt.show()"
   ]
  },
  {
   "cell_type": "code",
   "execution_count": 114,
   "metadata": {},
   "outputs": [
    {
     "data": {
      "image/png": "[encoded data removed]",
      "text/plain": [
       "<Figure size 432x288 with 1 Axes>"
      ]
     },
     "metadata": {
      "needs_background": "light"
     },
     "output_type": "display_data"
    }
   ],
   "source": [
    "df_test.groupby('VIP').mean()['LeasureBill'].plot.bar()\n",
    "plt.show()"
   ]
  },
  {
   "cell_type": "code",
   "execution_count": 115,
   "metadata": {},
   "outputs": [
    {
     "data": {
      "text/html": [
       "<div>\n",
       "<style scoped>\n",
       "    .dataframe tbody tr th:only-of-type {\n",
       "        vertical-align: middle;\n",
       "    }\n",
       "\n",
       "    .dataframe tbody tr th {\n",
       "        vertical-align: top;\n",
       "    }\n",
       "\n",
       "    .dataframe thead th {\n",
       "        text-align: right;\n",
       "    }\n",
       "</style>\n",
       "<table border=\"1\" class=\"dataframe\">\n",
       "  <thead>\n",
       "    <tr style=\"text-align: right;\">\n",
       "      <th></th>\n",
       "      <th>HomePlanet</th>\n",
       "      <th>CryoSleep</th>\n",
       "      <th>Destination</th>\n",
       "      <th>Age</th>\n",
       "      <th>VIP</th>\n",
       "      <th>RoomService</th>\n",
       "      <th>FoodCourt</th>\n",
       "      <th>ShoppingMall</th>\n",
       "      <th>Spa</th>\n",
       "      <th>VRDeck</th>\n",
       "      <th>Transported</th>\n",
       "      <th>PassengerNo</th>\n",
       "      <th>F2</th>\n",
       "      <th>F3</th>\n",
       "      <th>LeasureBill</th>\n",
       "    </tr>\n",
       "  </thead>\n",
       "  <tbody>\n",
       "    <tr>\n",
       "      <th>0</th>\n",
       "      <td>1</td>\n",
       "      <td>0</td>\n",
       "      <td>2</td>\n",
       "      <td>39.00</td>\n",
       "      <td>0</td>\n",
       "      <td>0.00</td>\n",
       "      <td>0.00</td>\n",
       "      <td>0.00</td>\n",
       "      <td>0.00</td>\n",
       "      <td>0.00</td>\n",
       "      <td>0</td>\n",
       "      <td>1</td>\n",
       "      <td>0</td>\n",
       "      <td>0</td>\n",
       "      <td>0.00</td>\n",
       "    </tr>\n",
       "    <tr>\n",
       "      <th>1</th>\n",
       "      <td>0</td>\n",
       "      <td>0</td>\n",
       "      <td>2</td>\n",
       "      <td>24.00</td>\n",
       "      <td>0</td>\n",
       "      <td>109.00</td>\n",
       "      <td>9.00</td>\n",
       "      <td>25.00</td>\n",
       "      <td>549.00</td>\n",
       "      <td>44.00</td>\n",
       "      <td>1</td>\n",
       "      <td>1</td>\n",
       "      <td>0</td>\n",
       "      <td>1</td>\n",
       "      <td>736.00</td>\n",
       "    </tr>\n",
       "    <tr>\n",
       "      <th>2</th>\n",
       "      <td>1</td>\n",
       "      <td>0</td>\n",
       "      <td>2</td>\n",
       "      <td>58.00</td>\n",
       "      <td>1</td>\n",
       "      <td>43.00</td>\n",
       "      <td>3576.00</td>\n",
       "      <td>0.00</td>\n",
       "      <td>6715.00</td>\n",
       "      <td>49.00</td>\n",
       "      <td>0</td>\n",
       "      <td>2</td>\n",
       "      <td>0</td>\n",
       "      <td>1</td>\n",
       "      <td>10383.00</td>\n",
       "    </tr>\n",
       "    <tr>\n",
       "      <th>3</th>\n",
       "      <td>1</td>\n",
       "      <td>0</td>\n",
       "      <td>2</td>\n",
       "      <td>33.00</td>\n",
       "      <td>0</td>\n",
       "      <td>0.00</td>\n",
       "      <td>1283.00</td>\n",
       "      <td>371.00</td>\n",
       "      <td>3329.00</td>\n",
       "      <td>193.00</td>\n",
       "      <td>0</td>\n",
       "      <td>2</td>\n",
       "      <td>0</td>\n",
       "      <td>1</td>\n",
       "      <td>5176.00</td>\n",
       "    </tr>\n",
       "    <tr>\n",
       "      <th>4</th>\n",
       "      <td>0</td>\n",
       "      <td>0</td>\n",
       "      <td>2</td>\n",
       "      <td>16.00</td>\n",
       "      <td>0</td>\n",
       "      <td>303.00</td>\n",
       "      <td>70.00</td>\n",
       "      <td>151.00</td>\n",
       "      <td>565.00</td>\n",
       "      <td>2.00</td>\n",
       "      <td>1</td>\n",
       "      <td>1</td>\n",
       "      <td>1</td>\n",
       "      <td>1</td>\n",
       "      <td>1091.00</td>\n",
       "    </tr>\n",
       "  </tbody>\n",
       "</table>\n",
       "</div>"
      ],
      "text/plain": [
       "   HomePlanet  CryoSleep  Destination   Age  VIP  RoomService  FoodCourt  \\\n",
       "0           1          0            2 39.00    0         0.00       0.00   \n",
       "1           0          0            2 24.00    0       109.00       9.00   \n",
       "2           1          0            2 58.00    1        43.00    3576.00   \n",
       "3           1          0            2 33.00    0         0.00    1283.00   \n",
       "4           0          0            2 16.00    0       303.00      70.00   \n",
       "\n",
       "   ShoppingMall     Spa  VRDeck  Transported  PassengerNo  F2  F3  LeasureBill  \n",
       "0          0.00    0.00    0.00            0            1   0   0         0.00  \n",
       "1         25.00  549.00   44.00            1            1   0   1       736.00  \n",
       "2          0.00 6715.00   49.00            0            2   0   1     10383.00  \n",
       "3        371.00 3329.00  193.00            0            2   0   1      5176.00  \n",
       "4        151.00  565.00    2.00            1            1   1   1      1091.00  "
      ]
     },
     "execution_count": 115,
     "metadata": {},
     "output_type": "execute_result"
    }
   ],
   "source": [
    "for col in df.columns:\n",
    "\t# In case of categorical column\n",
    "\t# encode them\n",
    "\tif df[col].dtype == object:\n",
    "\t\tle = LabelEncoder()\n",
    "\t\tdf[col] = le.fit_transform(df[col])\n",
    "\n",
    "\t# In case of boolean data type\n",
    "\t# convert them to binary\n",
    "\tif df[col].dtype == 'bool':\n",
    "\t\tdf[col] = df[col].astype(int)\n",
    "\n",
    "df.head()"
   ]
  },
  {
   "cell_type": "code",
   "execution_count": 116,
   "metadata": {},
   "outputs": [
    {
     "data": {
      "text/html": [
       "<div>\n",
       "<style scoped>\n",
       "    .dataframe tbody tr th:only-of-type {\n",
       "        vertical-align: middle;\n",
       "    }\n",
       "\n",
       "    .dataframe tbody tr th {\n",
       "        vertical-align: top;\n",
       "    }\n",
       "\n",
       "    .dataframe thead th {\n",
       "        text-align: right;\n",
       "    }\n",
       "</style>\n",
       "<table border=\"1\" class=\"dataframe\">\n",
       "  <thead>\n",
       "    <tr style=\"text-align: right;\">\n",
       "      <th></th>\n",
       "      <th>HomePlanet</th>\n",
       "      <th>CryoSleep</th>\n",
       "      <th>Destination</th>\n",
       "      <th>Age</th>\n",
       "      <th>VIP</th>\n",
       "      <th>RoomService</th>\n",
       "      <th>FoodCourt</th>\n",
       "      <th>ShoppingMall</th>\n",
       "      <th>Spa</th>\n",
       "      <th>VRDeck</th>\n",
       "      <th>PassengerNo</th>\n",
       "      <th>F2</th>\n",
       "      <th>F3</th>\n",
       "      <th>LeasureBill</th>\n",
       "    </tr>\n",
       "  </thead>\n",
       "  <tbody>\n",
       "    <tr>\n",
       "      <th>0</th>\n",
       "      <td>0</td>\n",
       "      <td>1</td>\n",
       "      <td>2</td>\n",
       "      <td>27.00</td>\n",
       "      <td>0</td>\n",
       "      <td>0.00</td>\n",
       "      <td>0.00</td>\n",
       "      <td>0.00</td>\n",
       "      <td>0.00</td>\n",
       "      <td>0.00</td>\n",
       "      <td>1</td>\n",
       "      <td>3</td>\n",
       "      <td>1</td>\n",
       "      <td>0.00</td>\n",
       "    </tr>\n",
       "    <tr>\n",
       "      <th>1</th>\n",
       "      <td>0</td>\n",
       "      <td>0</td>\n",
       "      <td>2</td>\n",
       "      <td>19.00</td>\n",
       "      <td>0</td>\n",
       "      <td>0.00</td>\n",
       "      <td>9.00</td>\n",
       "      <td>0.00</td>\n",
       "      <td>2823.00</td>\n",
       "      <td>0.00</td>\n",
       "      <td>1</td>\n",
       "      <td>4</td>\n",
       "      <td>1</td>\n",
       "      <td>2832.00</td>\n",
       "    </tr>\n",
       "    <tr>\n",
       "      <th>2</th>\n",
       "      <td>1</td>\n",
       "      <td>1</td>\n",
       "      <td>0</td>\n",
       "      <td>31.00</td>\n",
       "      <td>0</td>\n",
       "      <td>0.00</td>\n",
       "      <td>0.00</td>\n",
       "      <td>0.00</td>\n",
       "      <td>0.00</td>\n",
       "      <td>0.00</td>\n",
       "      <td>1</td>\n",
       "      <td>0</td>\n",
       "      <td>1</td>\n",
       "      <td>0.00</td>\n",
       "    </tr>\n",
       "    <tr>\n",
       "      <th>3</th>\n",
       "      <td>1</td>\n",
       "      <td>0</td>\n",
       "      <td>2</td>\n",
       "      <td>38.00</td>\n",
       "      <td>0</td>\n",
       "      <td>0.00</td>\n",
       "      <td>6652.00</td>\n",
       "      <td>0.00</td>\n",
       "      <td>181.00</td>\n",
       "      <td>585.00</td>\n",
       "      <td>1</td>\n",
       "      <td>1</td>\n",
       "      <td>1</td>\n",
       "      <td>7418.00</td>\n",
       "    </tr>\n",
       "    <tr>\n",
       "      <th>4</th>\n",
       "      <td>0</td>\n",
       "      <td>0</td>\n",
       "      <td>2</td>\n",
       "      <td>20.00</td>\n",
       "      <td>0</td>\n",
       "      <td>10.00</td>\n",
       "      <td>0.00</td>\n",
       "      <td>635.00</td>\n",
       "      <td>0.00</td>\n",
       "      <td>0.00</td>\n",
       "      <td>1</td>\n",
       "      <td>5</td>\n",
       "      <td>1</td>\n",
       "      <td>645.00</td>\n",
       "    </tr>\n",
       "  </tbody>\n",
       "</table>\n",
       "</div>"
      ],
      "text/plain": [
       "   HomePlanet  CryoSleep  Destination   Age  VIP  RoomService  FoodCourt  \\\n",
       "0           0          1            2 27.00    0         0.00       0.00   \n",
       "1           0          0            2 19.00    0         0.00       9.00   \n",
       "2           1          1            0 31.00    0         0.00       0.00   \n",
       "3           1          0            2 38.00    0         0.00    6652.00   \n",
       "4           0          0            2 20.00    0        10.00       0.00   \n",
       "\n",
       "   ShoppingMall     Spa  VRDeck  PassengerNo  F2  F3  LeasureBill  \n",
       "0          0.00    0.00    0.00            1   3   1         0.00  \n",
       "1          0.00 2823.00    0.00            1   4   1      2832.00  \n",
       "2          0.00    0.00    0.00            1   0   1         0.00  \n",
       "3          0.00  181.00  585.00            1   1   1      7418.00  \n",
       "4        635.00    0.00    0.00            1   5   1       645.00  "
      ]
     },
     "execution_count": 116,
     "metadata": {},
     "output_type": "execute_result"
    }
   ],
   "source": [
    "for col in df_test.columns:\n",
    "\t# In case of categorical column\n",
    "\t# encode them\n",
    "\tif df_test[col].dtype == object:\n",
    "\t\tle = LabelEncoder()\n",
    "\t\tdf_test[col] = le.fit_transform(df_test[col])\n",
    "\n",
    "\t# In case of boolean data type\n",
    "\t# convert them to binary\n",
    "\tif df_test[col].dtype == 'bool':\n",
    "\t\tdf_test[col] = df_test[col].astype(int)\n",
    "\n",
    "df_test.head()"
   ]
  },
  {
   "cell_type": "code",
   "execution_count": 117,
   "metadata": {},
   "outputs": [],
   "source": [
    "features = df.drop(['Transported'], axis=1)\n",
    "target = df.Transported"
   ]
  },
  {
   "cell_type": "code",
   "execution_count": 122,
   "metadata": {},
   "outputs": [
    {
     "name": "stderr",
     "output_type": "stream",
     "text": [
      "100%|██████████| 29/29 [00:11<00:00,  2.54it/s]"
     ]
    },
    {
     "name": "stdout",
     "output_type": "stream",
     "text": [
      "                               Accuracy  Balanced Accuracy  ROC AUC  F1 Score  \\\n",
      "Model                                                                           \n",
      "RandomForestClassifier             0.79               0.79     0.79      0.79   \n",
      "LogisticRegression                 0.79               0.79     0.79      0.79   \n",
      "LGBMClassifier                     0.79               0.79     0.79      0.79   \n",
      "ExtraTreesClassifier               0.79               0.79     0.79      0.79   \n",
      "XGBClassifier                      0.79               0.79     0.79      0.79   \n",
      "CalibratedClassifierCV             0.78               0.78     0.78      0.78   \n",
      "SVC                                0.78               0.78     0.78      0.78   \n",
      "LinearSVC                          0.78               0.78     0.78      0.78   \n",
      "AdaBoostClassifier                 0.78               0.78     0.78      0.78   \n",
      "NuSVC                              0.78               0.78     0.78      0.78   \n",
      "SGDClassifier                      0.77               0.77     0.77      0.77   \n",
      "KNeighborsClassifier               0.77               0.77     0.77      0.77   \n",
      "BaggingClassifier                  0.76               0.76     0.76      0.76   \n",
      "RidgeClassifierCV                  0.76               0.76     0.76      0.75   \n",
      "LinearDiscriminantAnalysis         0.76               0.76     0.76      0.75   \n",
      "RidgeClassifier                    0.76               0.76     0.76      0.75   \n",
      "Perceptron                         0.74               0.74     0.74      0.74   \n",
      "PassiveAggressiveClassifier        0.74               0.74     0.74      0.74   \n",
      "LabelSpreading                     0.73               0.73     0.73      0.73   \n",
      "LabelPropagation                   0.73               0.73     0.73      0.73   \n",
      "NearestCentroid                    0.73               0.73     0.73      0.73   \n",
      "BernoulliNB                        0.73               0.73     0.73      0.73   \n",
      "DecisionTreeClassifier             0.71               0.71     0.71      0.71   \n",
      "QuadraticDiscriminantAnalysis      0.71               0.71     0.71      0.69   \n",
      "ExtraTreeClassifier                0.70               0.70     0.70      0.70   \n",
      "GaussianNB                         0.66               0.66     0.66      0.63   \n",
      "DummyClassifier                    0.50               0.50     0.50      0.34   \n",
      "\n",
      "                               Time Taken  \n",
      "Model                                      \n",
      "RandomForestClassifier               0.57  \n",
      "LogisticRegression                   0.03  \n",
      "LGBMClassifier                       1.02  \n",
      "ExtraTreesClassifier                 0.66  \n",
      "XGBClassifier                        0.59  \n",
      "CalibratedClassifierCV               1.22  \n",
      "SVC                                  1.54  \n",
      "LinearSVC                            0.30  \n",
      "AdaBoostClassifier                   0.28  \n",
      "NuSVC                                1.85  \n",
      "SGDClassifier                        0.04  \n",
      "KNeighborsClassifier                 0.74  \n",
      "BaggingClassifier                    0.22  \n",
      "RidgeClassifierCV                    0.02  \n",
      "LinearDiscriminantAnalysis           0.03  \n",
      "RidgeClassifier                      0.02  \n",
      "Perceptron                           0.02  \n",
      "PassiveAggressiveClassifier          0.02  \n",
      "LabelSpreading                       1.18  \n",
      "LabelPropagation                     0.86  \n",
      "NearestCentroid                      0.02  \n",
      "BernoulliNB                          0.03  \n",
      "DecisionTreeClassifier               0.04  \n",
      "QuadraticDiscriminantAnalysis        0.02  \n",
      "ExtraTreeClassifier                  0.03  \n",
      "GaussianNB                           0.03  \n",
      "DummyClassifier                      0.02  \n"
     ]
    },
    {
     "name": "stderr",
     "output_type": "stream",
     "text": [
      "\n"
     ]
    }
   ],
   "source": [
    "from lazypredict.Supervised import LazyClassifier\n",
    "\n",
    "# X_train.shape, y_train.shape, X_test.shape\n",
    "x_tr, x_ts, y_tr, y_ts = train_test_split(features, target, test_size=0.5, random_state=0)\n",
    "clf = LazyClassifier(verbose=0,ignore_warnings=True, custom_metric=None)\n",
    "models,predictions = clf.fit(x_tr, x_ts, y_tr, y_ts)\n",
    "\n",
    "print(models)"
   ]
  },
  {
   "cell_type": "code",
   "execution_count": 125,
   "metadata": {},
   "outputs": [
    {
     "name": "stdout",
     "output_type": "stream",
     "text": [
      "value_z =   8, acc_random_forest = 78.77 %, top_value_z = 15, top_accuracy = 79.53 %\r"
     ]
    }
   ],
   "source": [
    "from sklearn.ensemble import RandomForestClassifier\n",
    "# Random Forest\n",
    "top_accuracy = 0\n",
    "top_value_x = 0\n",
    "top_value_y = 0\n",
    "top_model = 0\n",
    "top_x_values = [] # [7, 4, 6, 11, 12, 19, 20, 22, 29, 30, 47]\n",
    "top_y_values = [] # [31, 11, 12, 22, 14, 20, 23, 29, 41, 24, 22]\n",
    "\n",
    "# for value_x in np.arange(1, 100+1, 1):\n",
    "#     for value_y in np.arange(1, 100+1, 1):\n",
    "value_x = 69\n",
    "value_y = 55\n",
    "value_z = 10\n",
    "\n",
    "for value_x in np.arange(50, 100+1, 1):\n",
    "    for value_y in np.arange(50, 100+1, 1):\n",
    "        for value_z in np.arange(2, 20+1, 1):\n",
    "            # Random Forest Classifier\n",
    "            random_forest = RandomForestClassifier(n_estimators=value_x, \n",
    "                                                criterion='gini',\n",
    "                                                max_depth=value_y,\n",
    "                                                min_samples_split=value_z)\n",
    "\n",
    "            random_forest.fit(x_tr, y_tr)\n",
    "            y_pred = random_forest.predict(x_ts)\n",
    "            random_forest.score(x_tr, y_tr)   \n",
    "            acc_random_forest = round(metrics.accuracy_score(y_pred, y_ts) * 100, 2)\n",
    "            if acc_random_forest > top_accuracy:\n",
    "                for i in range(50):\n",
    "                    random_forest = RandomForestClassifier(n_estimators=value_x, \n",
    "                                                criterion='gini',\n",
    "                                                max_depth=value_y,\n",
    "                                                min_samples_split=value_z)\n",
    "                    random_forest.fit(x_tr, y_tr)\n",
    "                    y_pred = random_forest.predict(x_ts)\n",
    "                    random_forest.score(x_tr, y_tr)   \n",
    "                    acc_random_forest = round(metrics.accuracy_score(y_pred, y_ts) * 100, 2)\n",
    "                    if acc_random_forest > top_accuracy:\n",
    "                        top_accuracy = acc_random_forest\n",
    "                        top_value_x = value_x\n",
    "                        top_value_y = value_y\n",
    "                        top_value_z = value_z\n",
    "                        # top_x_values.append(top_value_x)\n",
    "                        # top_y_values.append(top_value_y)\n",
    "                        top_model = random_forest\n",
    "\n",
    "            print(f'{value_z = :3d}, {acc_random_forest = :2.2f} %, {top_value_z = :2d}, {top_accuracy = :2.2f} %', end='\\r')\n"
   ]
  },
  {
   "cell_type": "code",
   "execution_count": 123,
   "metadata": {},
   "outputs": [
    {
     "name": "stdout",
     "output_type": "stream",
     "text": [
      "3000/3000, acc_random_forest = 78.74 %, top_accuracy = 79.76 %\r"
     ]
    }
   ],
   "source": [
    "# top_x_values = [7, 4, 6, 11, 12, 19, 20, 22, 29, 30, 47]\n",
    "# top_y_values = [31, 11, 12, 22, 14, 20, 23, 29, 41, 24, 22]\n",
    "top_accuracy = 0\n",
    "# for x_value, y_value in zip(top_x_values[5:], top_y_values[5:]):\n",
    "value_x = 69\n",
    "value_y = 55\n",
    "value_z = 10\n",
    "\n",
    "for i in range(1, 3000+1):\n",
    "    # Random Forest Classifier\n",
    "    random_forest = RandomForestClassifier(n_estimators=value_x, \n",
    "                                        criterion='gini',\n",
    "                                        max_depth=value_y,\n",
    "                                        min_samples_split=value_z)\n",
    "    random_forest.fit(x_tr, y_tr)\n",
    "    y_pred = random_forest.predict(x_ts)\n",
    "    random_forest.score(x_tr, y_tr)   \n",
    "    acc_random_forest = round(metrics.accuracy_score(y_pred, y_ts) * 100, 2)\n",
    "\n",
    "    if acc_random_forest > top_accuracy:\n",
    "        top_accuracy = acc_random_forest  \n",
    "        \n",
    "        top_model = random_forest                 \n",
    "    \n",
    "    print(f'{i:4d}/3000, {acc_random_forest = :2.2f} %, {top_accuracy = :2.2f} %', end='\\r')"
   ]
  },
  {
   "cell_type": "code",
   "execution_count": 124,
   "metadata": {},
   "outputs": [
    {
     "name": "stdout",
     "output_type": "stream",
     "text": [
      "Saved submission!\n"
     ]
    }
   ],
   "source": [
    "# X_test = pd.read_csv('spaceship-titanic/test.csv')\n",
    "y_pred = pd.Series(top_model.predict(df_test))\n",
    "# top_model.score(x_tr, y_tr)   \n",
    "# acc_random_forest = round(metrics.accuracy_score(y_pred, y_ts) * 100, 2)\n",
    "sample_df = pd.read_csv('spaceship-titanic/sample_submission.csv')\n",
    "\n",
    "y_pred.loc[(y_pred == 1)]= 'True'\n",
    "y_pred.loc[(y_pred == 0)]= 'False'\n",
    "\n",
    "submission = pd.DataFrame({\n",
    "        \"PassengerId\": sample_df[\"PassengerId\"],\n",
    "        \"Transported\": y_pred\n",
    "    })\n",
    "submission.to_csv('submission2.csv', index=False)\n",
    "print('Saved submission!')"
   ]
  },
  {
   "cell_type": "code",
   "execution_count": null,
   "metadata": {},
   "outputs": [],
   "source": []
  }
 ],
 "metadata": {
  "kernelspec": {
   "display_name": "Python 3.9.9 64-bit",
   "language": "python",
   "name": "python3"
  },
  "language_info": {
   "codemirror_mode": {
    "name": "ipython",
    "version": 3
   },
   "file_extension": ".py",
   "mimetype": "text/x-python",
   "name": "python",
   "nbconvert_exporter": "python",
   "pygments_lexer": "ipython3",
   "version": "3.9.9"
  },
  "orig_nbformat": 4,
  "vscode": {
   "interpreter": {
    "hash": "aee8b7b246df8f9039afb4144a1f6fd8d2ca17a180786b69acc140d282b71a49"
   }
  }
 },
 "nbformat": 4,
 "nbformat_minor": 2
}
