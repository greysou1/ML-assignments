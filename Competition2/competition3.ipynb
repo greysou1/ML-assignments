{
 "cells": [
  {
   "cell_type": "code",
   "execution_count": 2,
   "metadata": {},
   "outputs": [],
   "source": [
    "import numpy as np\n",
    "import matplotlib.pyplot as plt\n",
    "import pandas as pd\n",
    "import seaborn as sns\n",
    "import random\n",
    "import os"
   ]
  },
  {
   "cell_type": "code",
   "execution_count": 3,
   "metadata": {},
   "outputs": [],
   "source": [
    "train=pd.read_csv('spaceship-titanic/train.csv')\n",
    "test=pd.read_csv('spaceship-titanic/test.csv')\n",
    "pID=train['PassengerId']"
   ]
  },
  {
   "cell_type": "code",
   "execution_count": 4,
   "metadata": {},
   "outputs": [],
   "source": [
    "cats=['HomePlanet','Cabin','Destination','CryoSleep','VIP','Name']"
   ]
  },
  {
   "cell_type": "code",
   "execution_count": 5,
   "metadata": {},
   "outputs": [
    {
     "name": "stdout",
     "output_type": "stream",
     "text": [
      "               column_name  percent_missing\n",
      "PassengerId    PassengerId         0.000000\n",
      "Transported    Transported         0.000000\n",
      "Age                    Age         2.059128\n",
      "RoomService    RoomService         2.082135\n",
      "Destination    Destination         2.093639\n",
      "FoodCourt        FoodCourt         2.105142\n",
      "Spa                    Spa         2.105142\n",
      "VRDeck              VRDeck         2.162660\n",
      "Cabin                Cabin         2.289198\n",
      "Name                  Name         2.300702\n",
      "HomePlanet      HomePlanet         2.312205\n",
      "VIP                    VIP         2.335212\n",
      "ShoppingMall  ShoppingMall         2.392730\n",
      "CryoSleep        CryoSleep         2.496261\n",
      "\n"
     ]
    }
   ],
   "source": [
    "def show_nan(df):\n",
    "    percent_missing = df.isnull().sum() * 100 / len(df)\n",
    "    missing_value_df = pd.DataFrame({'column_name': df.columns,\n",
    "                                 'percent_missing': percent_missing})\n",
    "    missing_value_df.sort_values('percent_missing', inplace=True)\n",
    "    print(missing_value_df)\n",
    "show_nan(train)\n",
    "print()"
   ]
  },
  {
   "cell_type": "code",
   "execution_count": 6,
   "metadata": {},
   "outputs": [],
   "source": [
    "#RoomService, FoodCourt, ShoppingMall, Spa, VRDeck fillna 0\n",
    "\n",
    "train['RoomService']=train['RoomService'].fillna(0)\n",
    "train['FoodCourt']=train['FoodCourt'].fillna(0)\n",
    "train['ShoppingMall']=train['ShoppingMall'].fillna(0)\n",
    "train['Spa']=train['Spa'].fillna(0)\n",
    "train['VRDeck']=train['VRDeck'].fillna(0)\n",
    "\n",
    "test['RoomService']=test['RoomService'].fillna(0)\n",
    "test['FoodCourt']=test['FoodCourt'].fillna(0)\n",
    "test['ShoppingMall']=test['ShoppingMall'].fillna(0)\n",
    "test['Spa']=test['Spa'].fillna(0)\n",
    "test['VRDeck']=test['VRDeck'].fillna(0)\n",
    "\n",
    "\n",
    "for i in train.columns:\n",
    "    if train[i].isna().sum()>0:\n",
    "\n",
    "        if i not in cats:\n",
    "            train[i]=train[i].fillna(train.groupby('Transported')[i].transform('mean'))\n",
    "for i in test.columns:\n",
    "    if test[i].isna().sum()>0:\n",
    "\n",
    "        if i not in cats:\n",
    "            test[i]=test[i].fillna(test[i].mean())"
   ]
  },
  {
   "cell_type": "code",
   "execution_count": 7,
   "metadata": {},
   "outputs": [],
   "source": [
    "train['Cabin']=train['Cabin'].fillna(method='ffill')\n",
    "test['Cabin']=test['Cabin'].fillna(method='ffill')\n",
    "\n",
    "train['deck'] = train['Cabin'].apply(lambda x: x.split('/')[0])\n",
    "train['num'] = train['Cabin'].apply(lambda x: x.split('/')[1])\n",
    "train['side'] = train['Cabin'].apply(lambda x: x.split('/')[2])\n",
    "\n",
    "test['deck'] = test['Cabin'].apply(lambda x: x.split('/')[0])\n",
    "test['num'] = test['Cabin'].apply(lambda x: x.split('/')[1])\n",
    "test['side'] = test['Cabin'].apply(lambda x: x.split('/')[2])\n",
    "\n",
    "\n",
    "\n",
    "del train['Cabin'],test['Cabin']\n",
    "cats.remove('Cabin')\n",
    "cats.append('deck')\n",
    "cats.append('num')\n",
    "cats.append('side')"
   ]
  },
  {
   "cell_type": "code",
   "execution_count": 8,
   "metadata": {},
   "outputs": [],
   "source": [
    "train['CryoSleep']=train['CryoSleep'].fillna(False)\n",
    "test['CryoSleep']=test['CryoSleep'].fillna(False)\n",
    "\n",
    "\n",
    "for i in test.columns:\n",
    "    if test[i].isna().sum()>0:\n",
    "        if i in cats:\n",
    "            test[i]=test[i].fillna(test[i].value_counts(ascending=True).index[-1])\n",
    "\n",
    "cats.remove('Name')            "
   ]
  },
  {
   "cell_type": "code",
   "execution_count": 9,
   "metadata": {},
   "outputs": [],
   "source": [
    "train['group']=train['PassengerId'].apply(lambda x: x.split('_')[0])\n",
    "test['group']=test['PassengerId'].apply(lambda x: x.split('_')[0])"
   ]
  },
  {
   "cell_type": "code",
   "execution_count": 10,
   "metadata": {},
   "outputs": [
    {
     "name": "stdout",
     "output_type": "stream",
     "text": [
      "     PassengerId HomePlanet  CryoSleep    Destination   Age    VIP  \\\n",
      "0        0001_01     Europa      False    TRAPPIST-1e  39.0  False   \n",
      "1        0002_01      Earth      False    TRAPPIST-1e  24.0  False   \n",
      "2        0003_01     Europa      False    TRAPPIST-1e  58.0   True   \n",
      "3        0003_02     Europa      False    TRAPPIST-1e  33.0  False   \n",
      "4        0004_01      Earth      False    TRAPPIST-1e  16.0  False   \n",
      "...          ...        ...        ...            ...   ...    ...   \n",
      "8688     9276_01     Europa      False    55 Cancri e  41.0   True   \n",
      "8689     9278_01      Earth       True  PSO J318.5-22  18.0  False   \n",
      "8690     9279_01      Earth      False    TRAPPIST-1e  26.0  False   \n",
      "8691     9280_01     Europa      False    55 Cancri e  32.0  False   \n",
      "8692     9280_02     Europa      False    TRAPPIST-1e  44.0  False   \n",
      "\n",
      "      RoomService  FoodCourt  ShoppingMall     Spa  VRDeck               Name  \\\n",
      "0             0.0        0.0           0.0     0.0     0.0    Maham Ofracculy   \n",
      "1           109.0        9.0          25.0   549.0    44.0       Juanna Vines   \n",
      "2            43.0     3576.0           0.0  6715.0    49.0      Altark Susent   \n",
      "3             0.0     1283.0         371.0  3329.0   193.0       Solam Susent   \n",
      "4           303.0       70.0         151.0   565.0     2.0  Willy Santantines   \n",
      "...           ...        ...           ...     ...     ...                ...   \n",
      "8688          0.0     6819.0           0.0  1643.0    74.0  Gravior Noxnuther   \n",
      "8689          0.0        0.0           0.0     0.0     0.0    Kurta Mondalley   \n",
      "8690          0.0        0.0        1872.0     1.0     0.0       Fayey Connon   \n",
      "8691          0.0     1049.0           0.0   353.0  3235.0   Celeon Hontichre   \n",
      "8692        126.0     4688.0           0.0     0.0    12.0   Propsh Hontichre   \n",
      "\n",
      "      Transported deck   num side group  has_relatives  \n",
      "0           False    B     0    P  0001              1  \n",
      "1            True    F     0    S  0002              1  \n",
      "2           False    A     0    S  0003              2  \n",
      "3           False    A     0    S  0003              2  \n",
      "4            True    F     1    S  0004              1  \n",
      "...           ...  ...   ...  ...   ...            ...  \n",
      "8688        False    A    98    P  9276              1  \n",
      "8689        False    G  1499    S  9278              1  \n",
      "8690         True    G  1500    S  9279              1  \n",
      "8691        False    E   608    S  9280              2  \n",
      "8692         True    E   608    S  9280              2  \n",
      "\n",
      "[8693 rows x 18 columns]\n"
     ]
    }
   ],
   "source": [
    "train['Name']=train['Name'].fillna(method='ffill')\n",
    "test['Name']=test['Name'].fillna(method='ffill')\n",
    "temp=pd.DataFrame(train.groupby(['group'])['Name'])\n",
    "d={}\n",
    "for i in range(len(temp)):#len(temp)\n",
    "    past_last_names=[]\n",
    "    names=list(temp[1][i])\n",
    "    rltvs=1\n",
    "    for j in range(len(list(temp[1][i]))):#len(list(temp[1][i]))\n",
    "        if(names[j].split(' ')[1] in past_last_names):\n",
    "            rltvs+=1\n",
    "        past_last_names.append(names[j].split(' ')[1])\n",
    "\n",
    "    d[f\"{temp[0][i]}\"]=rltvs\n",
    "\n",
    "train['has_relatives']=train['group'].map(d)\n",
    "\n",
    "\n",
    "temp=pd.DataFrame(test.groupby(['group'])['Name'])\n",
    "d={}\n",
    "for i in range(len(temp)):#len(temp)\n",
    "    past_last_names=[]\n",
    "    names=list(temp[1][i])\n",
    "    rltvs=1\n",
    "    for j in range(len(list(temp[1][i]))):#len(list(temp[1][i]))\n",
    "        if(names[j].split(' ')[1] in past_last_names):\n",
    "            rltvs+=1\n",
    "        past_last_names.append(names[j].split(' ')[1])\n",
    "    d[f\"{temp[0][i]}\"]=rltvs\n",
    "\n",
    "test['has_relatives']=test['group'].map(d)\n",
    "print(train)\n",
    "del train['Name'],train['group']\n",
    "del test['Name'],test['group']"
   ]
  },
  {
   "cell_type": "code",
   "execution_count": 11,
   "metadata": {},
   "outputs": [],
   "source": [
    "train['ttl_spnd']=train['RoomService']+train['FoodCourt']+train['ShoppingMall']+train['Spa']+train['VRDeck']\n",
    "test['ttl_spnd']=test['RoomService']+test['FoodCourt']+test['ShoppingMall']+test['Spa']+test['VRDeck']\n"
   ]
  },
  {
   "cell_type": "code",
   "execution_count": 12,
   "metadata": {},
   "outputs": [],
   "source": [
    "train['Adult']=True\n",
    "train.loc[train['Age']<18, 'Adult']=False\n",
    "test['Adult']=True\n",
    "test.loc[test['Age']<18, 'Adult']=False"
   ]
  },
  {
   "cell_type": "code",
   "execution_count": 13,
   "metadata": {},
   "outputs": [
    {
     "name": "stdout",
     "output_type": "stream",
     "text": [
      "HomePlanet\n",
      "Destination\n",
      "CryoSleep\n",
      "VIP\n",
      "deck\n",
      "num\n",
      "side\n"
     ]
    }
   ],
   "source": [
    "from sklearn.preprocessing import LabelEncoder\n",
    "#cats=['HomePlanet','deck','num','side','Destination','CryoSleep','VIP']\n",
    "#print(train['CryoSleep'])\n",
    "for i in cats:\n",
    "    print(i)\n",
    "    le=LabelEncoder()\n",
    "    arr=np.concatenate((train[i], test[i])).astype(str)\n",
    "    le.fit(arr)\n",
    "    train[i]=le.transform(train[i].astype(str))\n",
    "    test[i]=le.transform(test[i].astype(str))\n",
    "\n",
    "t = train['Transported']\n",
    "del train['Transported']\n",
    "train['Transported'] = t"
   ]
  },
  {
   "cell_type": "code",
   "execution_count": 16,
   "metadata": {},
   "outputs": [
    {
     "name": "stdout",
     "output_type": "stream",
     "text": [
      "Index(['PassengerId', 'HomePlanet', 'CryoSleep', 'Destination', 'Age', 'VIP',\n",
      "       'RoomService', 'FoodCourt', 'ShoppingMall', 'Spa', 'VRDeck', 'deck',\n",
      "       'num', 'side', 'has_relatives', 'ttl_spnd', 'Adult', 'Transported'],\n",
      "      dtype='object')\n"
     ]
    }
   ],
   "source": [
    "# seed=1337\n",
    "# def seed_everything(seed=0):\n",
    "#     random.seed(seed)\n",
    "#     os.environ['PYTHONHASHSEED'] = str(seed)\n",
    "#     np.random.seed(seed)\n",
    "# seed_everything(seed)\n",
    "#สุ่มตัวเลข seed=0 เพื่อให้การสุ่มมันตายตัว\n",
    "y=train['Transported']\n",
    "y=y.astype(int)\n",
    "#cats.remove('VIP')\n",
    "print(train.columns)\n",
    "\n",
    "from sklearn.model_selection import train_test_split\n",
    "\n",
    "X=train.drop(columns=['Transported','PassengerId'])\n",
    "\n",
    "x_tr, x_ts, y_tr, y_ts = train_test_split(X, y, test_size=0.25, random_state=0,shuffle=True)\n",
    "# else:\n",
    "#     X_train=train.drop(columns=['Transported','PassengerId'])\n",
    "#     y_train=y"
   ]
  },
  {
   "cell_type": "code",
   "execution_count": 17,
   "metadata": {},
   "outputs": [
    {
     "name": "stdout",
     "output_type": "stream",
     "text": [
      "value_x =  50, value_y =  71, value_z =   5, acc_random_forest = 79.67 %, top_value_x = 50, top_value_y = 50, top_value_z =  8, top_accuracy = 80.96 %\r"
     ]
    }
   ],
   "source": [
    "from sklearn.ensemble import RandomForestClassifier\n",
    "from sklearn import metrics\n",
    "# Random Forest\n",
    "top_accuracy = 0\n",
    "top_value_x = 0\n",
    "top_value_y = 0\n",
    "top_model = 0\n",
    "top_x_values = [] # [7, 4, 6, 11, 12, 19, 20, 22, 29, 30, 47]\n",
    "top_y_values = [] # [31, 11, 12, 22, 14, 20, 23, 29, 41, 24, 22]\n",
    "\n",
    "# for value_x in np.arange(1, 100+1, 1):\n",
    "#     for value_y in np.arange(1, 100+1, 1):\n",
    "value_x = 69\n",
    "value_y = 55\n",
    "value_z = 10\n",
    "\n",
    "for value_x in np.arange(50, 100+1, 1):\n",
    "    for value_y in np.arange(50, 100+1, 1):\n",
    "        for value_z in np.arange(2, 20+1, 1):\n",
    "            # Random Forest Classifier\n",
    "            random_forest = RandomForestClassifier(n_estimators=value_x, \n",
    "                                                criterion='gini',\n",
    "                                                max_depth=value_y,\n",
    "                                                min_samples_split=value_z)\n",
    "\n",
    "            random_forest.fit(x_tr, y_tr)\n",
    "            y_pred = random_forest.predict(x_ts)\n",
    "            random_forest.score(x_tr, y_tr)   \n",
    "            acc_random_forest = round(metrics.accuracy_score(y_pred, y_ts) * 100, 2)\n",
    "            if acc_random_forest > top_accuracy:\n",
    "                for i in range(50):\n",
    "                    random_forest = RandomForestClassifier(n_estimators=value_x, \n",
    "                                                criterion='gini',\n",
    "                                                max_depth=value_y,\n",
    "                                                min_samples_split=value_z)\n",
    "                    random_forest.fit(x_tr, y_tr)\n",
    "                    y_pred = random_forest.predict(x_ts)\n",
    "                    random_forest.score(x_tr, y_tr)   \n",
    "                    acc_random_forest = round(metrics.accuracy_score(y_pred, y_ts) * 100, 2)\n",
    "                    if acc_random_forest > top_accuracy:\n",
    "                        top_accuracy = acc_random_forest\n",
    "                        top_value_x = value_x\n",
    "                        top_value_y = value_y\n",
    "                        top_value_z = value_z\n",
    "                        # top_x_values.append(top_value_x)\n",
    "                        # top_y_values.append(top_value_y)\n",
    "                        top_model = random_forest\n",
    "\n",
    "            print(f'{value_x = :3d}, {value_y = :3d}, {value_z = :3d}, {acc_random_forest = :2.2f} %, {top_value_x = :2d}, {top_value_y = :2d}, {top_value_z = :2d}, {top_accuracy = :2.2f} %', end='\\r')\n"
   ]
  },
  {
   "cell_type": "code",
   "execution_count": null,
   "metadata": {},
   "outputs": [],
   "source": []
  }
 ],
 "metadata": {
  "kernelspec": {
   "display_name": "Python 3.9.9 64-bit",
   "language": "python",
   "name": "python3"
  },
  "language_info": {
   "codemirror_mode": {
    "name": "ipython",
    "version": 3
   },
   "file_extension": ".py",
   "mimetype": "text/x-python",
   "name": "python",
   "nbconvert_exporter": "python",
   "pygments_lexer": "ipython3",
   "version": "3.9.9"
  },
  "orig_nbformat": 4,
  "vscode": {
   "interpreter": {
    "hash": "aee8b7b246df8f9039afb4144a1f6fd8d2ca17a180786b69acc140d282b71a49"
   }
  }
 },
 "nbformat": 4,
 "nbformat_minor": 2
}
