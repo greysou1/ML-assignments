{
 "cells": [
  {
   "cell_type": "code",
   "execution_count": 25,
   "metadata": {},
   "outputs": [],
   "source": [
    "import pandas as pd\n",
    "import numpy as np\n",
    "from sklearn.preprocessing import OrdinalEncoder\n",
    "from lazypredict.Supervised import LazyClassifier\n",
    "from sklearn.model_selection import train_test_split\n",
    "\n",
    "# machine learning\n",
    "from sklearn.linear_model import LogisticRegression\n",
    "from sklearn.svm import SVC, LinearSVC\n",
    "from sklearn.ensemble import RandomForestClassifier\n",
    "from sklearn.neighbors import KNeighborsClassifier\n",
    "from sklearn.naive_bayes import GaussianNB\n",
    "from sklearn.linear_model import Perceptron\n",
    "from sklearn.linear_model import SGDClassifier\n",
    "from sklearn.tree import DecisionTreeClassifier\n",
    "from sklearn import metrics\n",
    "from xgboost import XGBClassifier"
   ]
  },
  {
   "cell_type": "code",
   "execution_count": 5,
   "metadata": {},
   "outputs": [],
   "source": [
    "PATH = 'spaceship-titanic'\n",
    "train = pd.read_csv(f'{PATH}/train.csv')\n",
    "test = pd.read_csv(f'{PATH}/test.csv')"
   ]
  },
  {
   "cell_type": "code",
   "execution_count": 6,
   "metadata": {},
   "outputs": [
    {
     "data": {
      "text/html": [
       "<div>\n",
       "<style scoped>\n",
       "    .dataframe tbody tr th:only-of-type {\n",
       "        vertical-align: middle;\n",
       "    }\n",
       "\n",
       "    .dataframe tbody tr th {\n",
       "        vertical-align: top;\n",
       "    }\n",
       "\n",
       "    .dataframe thead th {\n",
       "        text-align: right;\n",
       "    }\n",
       "</style>\n",
       "<table border=\"1\" class=\"dataframe\">\n",
       "  <thead>\n",
       "    <tr style=\"text-align: right;\">\n",
       "      <th></th>\n",
       "      <th>PassengerId</th>\n",
       "      <th>HomePlanet</th>\n",
       "      <th>CryoSleep</th>\n",
       "      <th>Cabin</th>\n",
       "      <th>Destination</th>\n",
       "      <th>Age</th>\n",
       "      <th>VIP</th>\n",
       "      <th>RoomService</th>\n",
       "      <th>FoodCourt</th>\n",
       "      <th>ShoppingMall</th>\n",
       "      <th>Spa</th>\n",
       "      <th>VRDeck</th>\n",
       "      <th>Name</th>\n",
       "      <th>Transported</th>\n",
       "    </tr>\n",
       "  </thead>\n",
       "  <tbody>\n",
       "    <tr>\n",
       "      <th>0</th>\n",
       "      <td>0001_01</td>\n",
       "      <td>Europa</td>\n",
       "      <td>False</td>\n",
       "      <td>B/0/P</td>\n",
       "      <td>TRAPPIST-1e</td>\n",
       "      <td>39.0</td>\n",
       "      <td>False</td>\n",
       "      <td>0.0</td>\n",
       "      <td>0.0</td>\n",
       "      <td>0.0</td>\n",
       "      <td>0.0</td>\n",
       "      <td>0.0</td>\n",
       "      <td>Maham Ofracculy</td>\n",
       "      <td>False</td>\n",
       "    </tr>\n",
       "    <tr>\n",
       "      <th>1</th>\n",
       "      <td>0002_01</td>\n",
       "      <td>Earth</td>\n",
       "      <td>False</td>\n",
       "      <td>F/0/S</td>\n",
       "      <td>TRAPPIST-1e</td>\n",
       "      <td>24.0</td>\n",
       "      <td>False</td>\n",
       "      <td>109.0</td>\n",
       "      <td>9.0</td>\n",
       "      <td>25.0</td>\n",
       "      <td>549.0</td>\n",
       "      <td>44.0</td>\n",
       "      <td>Juanna Vines</td>\n",
       "      <td>True</td>\n",
       "    </tr>\n",
       "    <tr>\n",
       "      <th>2</th>\n",
       "      <td>0003_01</td>\n",
       "      <td>Europa</td>\n",
       "      <td>False</td>\n",
       "      <td>A/0/S</td>\n",
       "      <td>TRAPPIST-1e</td>\n",
       "      <td>58.0</td>\n",
       "      <td>True</td>\n",
       "      <td>43.0</td>\n",
       "      <td>3576.0</td>\n",
       "      <td>0.0</td>\n",
       "      <td>6715.0</td>\n",
       "      <td>49.0</td>\n",
       "      <td>Altark Susent</td>\n",
       "      <td>False</td>\n",
       "    </tr>\n",
       "    <tr>\n",
       "      <th>3</th>\n",
       "      <td>0003_02</td>\n",
       "      <td>Europa</td>\n",
       "      <td>False</td>\n",
       "      <td>A/0/S</td>\n",
       "      <td>TRAPPIST-1e</td>\n",
       "      <td>33.0</td>\n",
       "      <td>False</td>\n",
       "      <td>0.0</td>\n",
       "      <td>1283.0</td>\n",
       "      <td>371.0</td>\n",
       "      <td>3329.0</td>\n",
       "      <td>193.0</td>\n",
       "      <td>Solam Susent</td>\n",
       "      <td>False</td>\n",
       "    </tr>\n",
       "    <tr>\n",
       "      <th>4</th>\n",
       "      <td>0004_01</td>\n",
       "      <td>Earth</td>\n",
       "      <td>False</td>\n",
       "      <td>F/1/S</td>\n",
       "      <td>TRAPPIST-1e</td>\n",
       "      <td>16.0</td>\n",
       "      <td>False</td>\n",
       "      <td>303.0</td>\n",
       "      <td>70.0</td>\n",
       "      <td>151.0</td>\n",
       "      <td>565.0</td>\n",
       "      <td>2.0</td>\n",
       "      <td>Willy Santantines</td>\n",
       "      <td>True</td>\n",
       "    </tr>\n",
       "  </tbody>\n",
       "</table>\n",
       "</div>"
      ],
      "text/plain": [
       "  PassengerId HomePlanet CryoSleep  Cabin  Destination   Age    VIP  \\\n",
       "0     0001_01     Europa     False  B/0/P  TRAPPIST-1e  39.0  False   \n",
       "1     0002_01      Earth     False  F/0/S  TRAPPIST-1e  24.0  False   \n",
       "2     0003_01     Europa     False  A/0/S  TRAPPIST-1e  58.0   True   \n",
       "3     0003_02     Europa     False  A/0/S  TRAPPIST-1e  33.0  False   \n",
       "4     0004_01      Earth     False  F/1/S  TRAPPIST-1e  16.0  False   \n",
       "\n",
       "   RoomService  FoodCourt  ShoppingMall     Spa  VRDeck               Name  \\\n",
       "0          0.0        0.0           0.0     0.0     0.0    Maham Ofracculy   \n",
       "1        109.0        9.0          25.0   549.0    44.0       Juanna Vines   \n",
       "2         43.0     3576.0           0.0  6715.0    49.0      Altark Susent   \n",
       "3          0.0     1283.0         371.0  3329.0   193.0       Solam Susent   \n",
       "4        303.0       70.0         151.0   565.0     2.0  Willy Santantines   \n",
       "\n",
       "   Transported  \n",
       "0        False  \n",
       "1         True  \n",
       "2        False  \n",
       "3        False  \n",
       "4         True  "
      ]
     },
     "execution_count": 6,
     "metadata": {},
     "output_type": "execute_result"
    }
   ],
   "source": [
    "train.head()"
   ]
  },
  {
   "cell_type": "code",
   "execution_count": 7,
   "metadata": {},
   "outputs": [
    {
     "name": "stdout",
     "output_type": "stream",
     "text": [
      "<class 'pandas.core.frame.DataFrame'>\n",
      "RangeIndex: 8693 entries, 0 to 8692\n",
      "Data columns (total 14 columns):\n",
      " #   Column        Non-Null Count  Dtype  \n",
      "---  ------        --------------  -----  \n",
      " 0   PassengerId   8693 non-null   object \n",
      " 1   HomePlanet    8492 non-null   object \n",
      " 2   CryoSleep     8476 non-null   object \n",
      " 3   Cabin         8494 non-null   object \n",
      " 4   Destination   8511 non-null   object \n",
      " 5   Age           8514 non-null   float64\n",
      " 6   VIP           8490 non-null   object \n",
      " 7   RoomService   8512 non-null   float64\n",
      " 8   FoodCourt     8510 non-null   float64\n",
      " 9   ShoppingMall  8485 non-null   float64\n",
      " 10  Spa           8510 non-null   float64\n",
      " 11  VRDeck        8505 non-null   float64\n",
      " 12  Name          8493 non-null   object \n",
      " 13  Transported   8693 non-null   bool   \n",
      "dtypes: bool(1), float64(6), object(7)\n",
      "memory usage: 891.5+ KB\n"
     ]
    }
   ],
   "source": [
    "train.info()"
   ]
  },
  {
   "cell_type": "code",
   "execution_count": 8,
   "metadata": {},
   "outputs": [],
   "source": [
    "train['Transported'].replace(False, 0, inplace=True)\n",
    "train['Transported'].replace(True, 1, inplace=True)\n",
    "\n",
    "train.Transported = train.Transported.astype(int)\n",
    "\n",
    "train['VIP'].replace(False, 0, inplace=True)\n",
    "train['VIP'].replace(True, 1, inplace=True)\n",
    "test['VIP'].replace(False, 0, inplace=True)\n",
    "test['VIP'].replace(True, 1, inplace=True)\n",
    "\n",
    "test.VIP = test.VIP.astype(\"Int8\")\n",
    "train.VIP = train.VIP.astype(\"Int8\")\n",
    "\n",
    "train.CryoSleep.replace(False, 0, inplace=True)\n",
    "test.CryoSleep.replace(False, 0, inplace=True)\n",
    "\n",
    "train.CryoSleep.replace(True, 1, inplace=True)\n",
    "test.CryoSleep.replace(True, 1, inplace=True)\n",
    "\n",
    "test.CryoSleep = test.CryoSleep.astype(\"Int8\")\n",
    "train.CryoSleep = train.CryoSleep.astype(\"Int8\")"
   ]
  },
  {
   "cell_type": "code",
   "execution_count": 9,
   "metadata": {},
   "outputs": [],
   "source": [
    "train[['deck','num', 'side']] = train['Cabin'].str.split('/', expand=True)\n",
    "test[['deck','num', 'side']] = test['Cabin'].str.split('/', expand=True)\n",
    "\n",
    "train.drop('Cabin', axis=1, inplace=True)\n",
    "test.drop('Cabin', axis=1, inplace=True)"
   ]
  },
  {
   "cell_type": "code",
   "execution_count": 10,
   "metadata": {},
   "outputs": [],
   "source": [
    "col_to_sum = ['RoomService', 'FoodCourt', 'ShoppingMall', 'Spa', 'VRDeck']\n",
    "\n",
    "train['SumSpends'] = train[col_to_sum].sum(axis=1)\n",
    "test['SumSpends'] = test[col_to_sum].sum(axis=1)\n",
    "\n",
    "train['MaxSpends'] = train[col_to_sum].max(axis=1)\n",
    "test['MaxSpends'] = test[col_to_sum].max(axis=1)"
   ]
  },
  {
   "cell_type": "code",
   "execution_count": 13,
   "metadata": {},
   "outputs": [],
   "source": [
    "# Since dispersion of spendings is very high, we can use a transformation to normalize it.\n",
    "train['log_spend'] = np.log(train.SumSpends + 1)\n",
    "test['log_spend'] = np.log(test.SumSpends + 1)\n",
    "\n",
    "# We must add 1, to prevent -infinite values."
   ]
  },
  {
   "cell_type": "code",
   "execution_count": 14,
   "metadata": {},
   "outputs": [],
   "source": [
    "# We should impute null values\n",
    "\n",
    "null_cols = train.isnull().sum().sort_values(ascending=False)\n",
    "null_cols = list(null_cols[null_cols>1].index)"
   ]
  },
  {
   "cell_type": "code",
   "execution_count": 17,
   "metadata": {},
   "outputs": [],
   "source": [
    "# We do not need one-hot encoding in decision trees.\n",
    "\n",
    "object_cols = [col for col in train.columns if train[col].dtype == 'object' or train[col].dtype == 'category']\n",
    "\n",
    "oc = OrdinalEncoder()\n",
    "\n",
    "df_for_encode = pd.concat([train, test])\n",
    "\n",
    "df_for_encode[object_cols] = df_for_encode[object_cols].astype('category')\n",
    "\n",
    "df_for_encode[object_cols] = oc.fit_transform(df_for_encode[object_cols])\n",
    "\n",
    "del train, test\n",
    "\n",
    "train = df_for_encode.iloc[:8693, :]\n",
    "test = df_for_encode.iloc[8693: , :]\n",
    "\n",
    "del df_for_encode\n",
    "\n",
    "test.drop('Transported', inplace=True, axis=1)"
   ]
  },
  {
   "cell_type": "code",
   "execution_count": 18,
   "metadata": {},
   "outputs": [],
   "source": [
    "from sklearn.impute import SimpleImputer\n",
    "from sklearn.compose import ColumnTransformer\n",
    "\n",
    "ct = ColumnTransformer([(\"imp\", SimpleImputer(strategy='mean'), null_cols)])\n",
    "\n",
    "train[null_cols] = ct.fit_transform(train[null_cols])\n",
    "test[null_cols] = ct.transform(test[null_cols])"
   ]
  },
  {
   "cell_type": "code",
   "execution_count": 19,
   "metadata": {},
   "outputs": [
    {
     "name": "stdout",
     "output_type": "stream",
     "text": [
      "Shapes are equal. We are ready to train models.\n"
     ]
    }
   ],
   "source": [
    "train.drop('PassengerId', axis=1, inplace = True)\n",
    "test.drop('PassengerId', axis=1, inplace = True)\n",
    "\n",
    "y_train = train['Transported']\n",
    "X_train = train.drop('Transported', axis=1)\n",
    "X_test = test\n",
    "\n",
    "if X_train.shape[1] == X_test.shape[1]:\n",
    "    print('Shapes are equal. We are ready to train models.')\n",
    "else:\n",
    "    print('There is something wrong in preprocessing steps.')"
   ]
  },
  {
   "cell_type": "code",
   "execution_count": 53,
   "metadata": {},
   "outputs": [
    {
     "name": "stderr",
     "output_type": "stream",
     "text": [
      "100%|██████████| 29/29 [00:09<00:00,  2.99it/s]"
     ]
    },
    {
     "name": "stdout",
     "output_type": "stream",
     "text": [
      "                               Accuracy  Balanced Accuracy  ROC AUC  F1 Score  \\\n",
      "Model                                                                           \n",
      "LGBMClassifier                     0.80               0.80     0.80      0.80   \n",
      "RandomForestClassifier             0.79               0.79     0.79      0.79   \n",
      "XGBClassifier                      0.79               0.79     0.79      0.79   \n",
      "ExtraTreesClassifier               0.79               0.79     0.79      0.79   \n",
      "LogisticRegression                 0.78               0.78     0.78      0.78   \n",
      "SGDClassifier                      0.78               0.78     0.78      0.78   \n",
      "AdaBoostClassifier                 0.78               0.78     0.78      0.78   \n",
      "LinearSVC                          0.78               0.78     0.78      0.78   \n",
      "CalibratedClassifierCV             0.78               0.78     0.78      0.78   \n",
      "SVC                                0.78               0.78     0.78      0.78   \n",
      "BaggingClassifier                  0.78               0.78     0.78      0.78   \n",
      "NuSVC                              0.77               0.77     0.77      0.77   \n",
      "KNeighborsClassifier               0.76               0.76     0.76      0.76   \n",
      "RidgeClassifierCV                  0.76               0.76     0.76      0.76   \n",
      "LinearDiscriminantAnalysis         0.76               0.76     0.76      0.76   \n",
      "RidgeClassifier                    0.76               0.76     0.76      0.76   \n",
      "DecisionTreeClassifier             0.74               0.74     0.74      0.74   \n",
      "Perceptron                         0.73               0.73     0.73      0.73   \n",
      "LabelSpreading                     0.73               0.73     0.73      0.73   \n",
      "LabelPropagation                   0.73               0.73     0.73      0.73   \n",
      "NearestCentroid                    0.73               0.73     0.73      0.72   \n",
      "BernoulliNB                        0.72               0.72     0.72      0.72   \n",
      "ExtraTreeClassifier                0.71               0.71     0.71      0.71   \n",
      "QuadraticDiscriminantAnalysis      0.69               0.69     0.69      0.67   \n",
      "GaussianNB                         0.68               0.68     0.68      0.66   \n",
      "PassiveAggressiveClassifier        0.65               0.65     0.65      0.65   \n",
      "DummyClassifier                    0.50               0.50     0.50      0.34   \n",
      "\n",
      "                               Time Taken  \n",
      "Model                                      \n",
      "LGBMClassifier                       0.13  \n",
      "RandomForestClassifier               0.70  \n",
      "XGBClassifier                        0.31  \n",
      "ExtraTreesClassifier                 0.49  \n",
      "LogisticRegression                   0.04  \n",
      "SGDClassifier                        0.05  \n",
      "AdaBoostClassifier                   0.35  \n",
      "LinearSVC                            0.32  \n",
      "CalibratedClassifierCV               1.27  \n",
      "SVC                                  1.47  \n",
      "BaggingClassifier                    0.21  \n",
      "NuSVC                                1.67  \n",
      "KNeighborsClassifier                 0.20  \n",
      "RidgeClassifierCV                    0.03  \n",
      "LinearDiscriminantAnalysis           0.04  \n",
      "RidgeClassifier                      0.02  \n",
      "DecisionTreeClassifier               0.06  \n",
      "Perceptron                           0.02  \n",
      "LabelSpreading                       1.33  \n",
      "LabelPropagation                     0.81  \n",
      "NearestCentroid                      0.02  \n",
      "BernoulliNB                          0.02  \n",
      "ExtraTreeClassifier                  0.03  \n",
      "QuadraticDiscriminantAnalysis        0.02  \n",
      "GaussianNB                           0.02  \n",
      "PassiveAggressiveClassifier          0.03  \n",
      "DummyClassifier                      0.02  \n"
     ]
    },
    {
     "name": "stderr",
     "output_type": "stream",
     "text": [
      "\n"
     ]
    }
   ],
   "source": [
    "# X_train.shape, y_train.shape, X_test.shape\n",
    "x_tr, x_ts, y_tr, y_ts = train_test_split(X_train, y_train, test_size=0.5, random_state=0)\n",
    "clf = LazyClassifier(verbose=0,ignore_warnings=True, custom_metric=None)\n",
    "models,predictions = clf.fit(x_tr, x_ts, y_tr, y_ts)\n",
    "\n",
    "print(models)"
   ]
  },
  {
   "cell_type": "markdown",
   "metadata": {},
   "source": [
    "#### random forest"
   ]
  },
  {
   "cell_type": "code",
   "execution_count": 58,
   "metadata": {},
   "outputs": [
    {
     "name": "stdout",
     "output_type": "stream",
     "text": [
      "value_x = 100, value_y = 100, acc_random_forest = 79.27 %, top_value_x = 31, top_value_y = 68, top_accuracy = 80.17 %\r"
     ]
    }
   ],
   "source": [
    "# Random Forest\n",
    "top_accuracy = 0\n",
    "top_value_x = 0\n",
    "top_value_y = 0\n",
    "top_model = 0\n",
    "top_x_values = [] # [7, 4, 6, 11, 12, 19, 20, 22, 29, 30, 47]\n",
    "top_y_values = [] # [31, 11, 12, 22, 14, 20, 23, 29, 41, 24, 22]\n",
    "\n",
    "for value_x in np.arange(1, 100+1, 1):\n",
    "    for value_y in np.arange(1, 100+1, 1):\n",
    "        # Random Forest Classifier\n",
    "        random_forest = RandomForestClassifier(n_estimators=value_x, \n",
    "                                            criterion='gini',\n",
    "                                            max_depth=value_y)\n",
    "\n",
    "        random_forest.fit(x_tr, y_tr)\n",
    "        y_pred = random_forest.predict(x_ts)\n",
    "        random_forest.score(x_tr, y_tr)   \n",
    "        acc_random_forest = round(metrics.accuracy_score(y_pred, y_ts) * 100, 2)\n",
    "        if acc_random_forest > top_accuracy:\n",
    "            top_accuracy = acc_random_forest\n",
    "            top_value_x = value_x\n",
    "            top_value_y = value_y\n",
    "            top_x_values.append(top_value_x)\n",
    "            top_y_values.append(top_value_y)\n",
    "            top_model = random_forest\n",
    "        \n",
    "        print(f'{value_x = :3d}, {value_y = :3d}, {acc_random_forest = :2.2f} %, {top_value_x = :2d}, {top_value_y = :2d}, {top_accuracy = :2.2f} %', end='\\r')\n"
   ]
  },
  {
   "cell_type": "code",
   "execution_count": 65,
   "metadata": {},
   "outputs": [
    {
     "data": {
      "text/plain": [
       "(10, 10)"
      ]
     },
     "execution_count": 65,
     "metadata": {},
     "output_type": "execute_result"
    }
   ],
   "source": [
    "len(top_x_values[10:]), len(top_y_values[10:])"
   ]
  },
  {
   "cell_type": "code",
   "execution_count": 66,
   "metadata": {},
   "outputs": [
    {
     "name": "stdout",
     "output_type": "stream",
     "text": [
      "x_value = 31, y_value = 68, 1000/1000, acc_random_forest = 79.09 %, top_value_x = 28, top_value_y = 19, top_accuracy = 80.12 %\r"
     ]
    }
   ],
   "source": [
    "# top_x_values = [7, 4, 6, 11, 12, 19, 20, 22, 29, 30, 47]\n",
    "# top_y_values = [31, 11, 12, 22, 14, 20, 23, 29, 41, 24, 22]\n",
    "top_accuracy = 0\n",
    "for x_value, y_value in zip(top_x_values[5:], top_y_values[5:]):\n",
    "    for i in range(1, 1000+1):\n",
    "        # Random Forest Classifier\n",
    "        random_forest = RandomForestClassifier(n_estimators=x_value, \n",
    "                                            criterion='gini',\n",
    "                                            max_depth=y_value)\n",
    "        random_forest.fit(x_tr, y_tr)\n",
    "        y_pred = random_forest.predict(x_ts)\n",
    "        random_forest.score(x_tr, y_tr)   \n",
    "        acc_random_forest = round(metrics.accuracy_score(y_pred, y_ts) * 100, 2)\n",
    "\n",
    "        if acc_random_forest > top_accuracy:\n",
    "            top_accuracy = acc_random_forest  \n",
    "            top_value_x = x_value\n",
    "            top_value_y = y_value  \n",
    "            top_model = random_forest                 \n",
    "        \n",
    "        print(f'{x_value = :2d}, {y_value = :2d}, {i:4d}/1000, {acc_random_forest = :2.2f} %, {top_value_x = :2d}, {top_value_y = :2d}, {top_accuracy = :2.2f} %', end='\\r')"
   ]
  },
  {
   "cell_type": "code",
   "execution_count": 67,
   "metadata": {},
   "outputs": [
    {
     "name": "stdout",
     "output_type": "stream",
     "text": [
      "Saved submission!\n"
     ]
    }
   ],
   "source": [
    "y_pred = pd.Series(top_model.predict(X_test))\n",
    "# top_model.score(x_tr, y_tr)   \n",
    "# acc_random_forest = round(metrics.accuracy_score(y_pred, y_ts) * 100, 2)\n",
    "sample_df = pd.read_csv('spaceship-titanic/sample_submission.csv')\n",
    "\n",
    "y_pred.loc[(y_pred == 1)]= 'True'\n",
    "y_pred.loc[(y_pred == 0)]= 'False'\n",
    "\n",
    "submission = pd.DataFrame({\n",
    "        \"PassengerId\": sample_df[\"PassengerId\"],\n",
    "        \"Transported\": y_pred\n",
    "    })\n",
    "submission.to_csv('submission.csv', index=False)\n",
    "print('Saved submission!')"
   ]
  },
  {
   "cell_type": "code",
   "execution_count": 49,
   "metadata": {},
   "outputs": [
    {
     "data": {
      "text/plain": [
       "0       False\n",
       "1       False\n",
       "2        True\n",
       "3        True\n",
       "4       False\n",
       "        ...  \n",
       "4272     True\n",
       "4273    False\n",
       "4274     True\n",
       "4275     True\n",
       "4276     True\n",
       "Length: 4277, dtype: object"
      ]
     },
     "execution_count": 49,
     "metadata": {},
     "output_type": "execute_result"
    }
   ],
   "source": [
    "y_pred"
   ]
  },
  {
   "cell_type": "code",
   "execution_count": null,
   "metadata": {},
   "outputs": [],
   "source": []
  }
 ],
 "metadata": {
  "kernelspec": {
   "display_name": "Python 3.9.9 64-bit",
   "language": "python",
   "name": "python3"
  },
  "language_info": {
   "codemirror_mode": {
    "name": "ipython",
    "version": 3
   },
   "file_extension": ".py",
   "mimetype": "text/x-python",
   "name": "python",
   "nbconvert_exporter": "python",
   "pygments_lexer": "ipython3",
   "version": "3.9.9"
  },
  "orig_nbformat": 4,
  "vscode": {
   "interpreter": {
    "hash": "aee8b7b246df8f9039afb4144a1f6fd8d2ca17a180786b69acc140d282b71a49"
   }
  }
 },
 "nbformat": 4,
 "nbformat_minor": 2
}
