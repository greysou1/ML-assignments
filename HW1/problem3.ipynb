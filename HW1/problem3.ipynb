{
 "cells": [
  {
   "cell_type": "code",
   "execution_count": 47,
   "metadata": {},
   "outputs": [],
   "source": [
    "# import libraries\n",
    "import numpy as np\n",
    "import pandas as pd"
   ]
  },
  {
   "cell_type": "code",
   "execution_count": 51,
   "metadata": {},
   "outputs": [
    {
     "data": {
      "text/plain": [
       "(array([2, 1]), array([1, 1]), array([6, 3]), array([3, 3]))"
      ]
     },
     "execution_count": 51,
     "metadata": {},
     "output_type": "execute_result"
    }
   ],
   "source": [
    "# initialise the boxes\n",
    "# Box1: (2, 1)\n",
    "# Box2: (1, 1)\n",
    "# Box3: (6, 3)\n",
    "# Box4: (3, 3)\n",
    "\n",
    "box1 = np.array([2,1])\n",
    "box2 = np.array([1,1])\n",
    "box3 = np.array([6,3])\n",
    "box4 = np.array([3,3])\n",
    "\n",
    "box1, box2, box3, box4\n"
   ]
  },
  {
   "cell_type": "markdown",
   "metadata": {},
   "source": [
    "### Q1. Which proximity measure would you use to group the boxes based on their shapes (length - width ratio)?\n",
    "Ans) Correlation. Correlation can be used to find how similar two lists can be. In Correlation the mean and standard deviation are measure giving an idea of the variance of the two list objects (boxes). Objects of similar shapes have similar standard deviation. "
   ]
  },
  {
   "cell_type": "code",
   "execution_count": 90,
   "metadata": {},
   "outputs": [],
   "source": [
    "def corr(v1, v2, avg=True):\n",
    "    if avg:\n",
    "        return round(np.average(np.corrcoef(v1, v2)))\n",
    "    else:\n",
    "        return np.corrcoef(v1, v2)"
   ]
  },
  {
   "cell_type": "code",
   "execution_count": 118,
   "metadata": {},
   "outputs": [
    {
     "name": "stderr",
     "output_type": "stream",
     "text": [
      "/Users/prudvikamtam/Documents/UCF/Fall22/Machine Learning/Assignments/ML-Assignment1/env/lib/python3.9/site-packages/numpy/lib/function_base.py:2853: RuntimeWarning: invalid value encountered in divide\n",
      "  c /= stddev[:, None]\n",
      "/Users/prudvikamtam/Documents/UCF/Fall22/Machine Learning/Assignments/ML-Assignment1/env/lib/python3.9/site-packages/numpy/lib/function_base.py:2854: RuntimeWarning: invalid value encountered in divide\n",
      "  c /= stddev[None, :]\n"
     ]
    }
   ],
   "source": [
    "# Checking the correlation of all boxes amongst each other\n",
    "\n",
    "boxes = [box1, box2, box3, box4]\n",
    "correlations = {}\n",
    "stds = []\n",
    "means = []\n",
    "for i in range(len(boxes)):\n",
    "    for j in range(i, len(boxes)):\n",
    "        if i == j:\n",
    "            continue\n",
    "        correlations[str(f'box {i+1} and box {j+1}')] =  corr(boxes[i], boxes[j], avg=False).flatten()\n",
    "        stds.append(f'{(np.std(boxes[i]), np.std(boxes[j]))}')\n",
    "        means.append(f'{(np.mean(boxes[i]), np.mean(boxes[j]))}')\n"
   ]
  },
  {
   "cell_type": "code",
   "execution_count": 119,
   "metadata": {},
   "outputs": [
    {
     "data": {
      "text/html": [
       "<div>\n",
       "<style scoped>\n",
       "    .dataframe tbody tr th:only-of-type {\n",
       "        vertical-align: middle;\n",
       "    }\n",
       "\n",
       "    .dataframe tbody tr th {\n",
       "        vertical-align: top;\n",
       "    }\n",
       "\n",
       "    .dataframe thead th {\n",
       "        text-align: right;\n",
       "    }\n",
       "</style>\n",
       "<table border=\"1\" class=\"dataframe\">\n",
       "  <thead>\n",
       "    <tr style=\"text-align: right;\">\n",
       "      <th></th>\n",
       "      <th>box combination</th>\n",
       "      <th>correlation</th>\n",
       "      <th>Standard deviation</th>\n",
       "      <th>Means</th>\n",
       "    </tr>\n",
       "  </thead>\n",
       "  <tbody>\n",
       "    <tr>\n",
       "      <th>0</th>\n",
       "      <td>box 1 and box 2</td>\n",
       "      <td>[0.9999999999999999, nan, nan, nan]</td>\n",
       "      <td>(0.5, 0.0)</td>\n",
       "      <td>(1.5, 1.0)</td>\n",
       "    </tr>\n",
       "    <tr>\n",
       "      <th>1</th>\n",
       "      <td>box 1 and box 3</td>\n",
       "      <td>[0.9999999999999999, 1.0, 1.0, 1.0]</td>\n",
       "      <td>(0.5, 1.5)</td>\n",
       "      <td>(1.5, 4.5)</td>\n",
       "    </tr>\n",
       "    <tr>\n",
       "      <th>2</th>\n",
       "      <td>box 1 and box 4</td>\n",
       "      <td>[0.9999999999999999, nan, nan, nan]</td>\n",
       "      <td>(0.5, 0.0)</td>\n",
       "      <td>(1.5, 3.0)</td>\n",
       "    </tr>\n",
       "    <tr>\n",
       "      <th>3</th>\n",
       "      <td>box 2 and box 3</td>\n",
       "      <td>[nan, nan, nan, 1.0]</td>\n",
       "      <td>(0.0, 1.5)</td>\n",
       "      <td>(1.0, 4.5)</td>\n",
       "    </tr>\n",
       "    <tr>\n",
       "      <th>4</th>\n",
       "      <td>box 2 and box 4</td>\n",
       "      <td>[nan, nan, nan, nan]</td>\n",
       "      <td>(0.0, 0.0)</td>\n",
       "      <td>(1.0, 3.0)</td>\n",
       "    </tr>\n",
       "    <tr>\n",
       "      <th>5</th>\n",
       "      <td>box 3 and box 4</td>\n",
       "      <td>[1.0, nan, nan, nan]</td>\n",
       "      <td>(1.5, 0.0)</td>\n",
       "      <td>(4.5, 3.0)</td>\n",
       "    </tr>\n",
       "  </tbody>\n",
       "</table>\n",
       "</div>"
      ],
      "text/plain": [
       "   box combination                          correlation Standard deviation  \\\n",
       "0  box 1 and box 2  [0.9999999999999999, nan, nan, nan]         (0.5, 0.0)   \n",
       "1  box 1 and box 3  [0.9999999999999999, 1.0, 1.0, 1.0]         (0.5, 1.5)   \n",
       "2  box 1 and box 4  [0.9999999999999999, nan, nan, nan]         (0.5, 0.0)   \n",
       "3  box 2 and box 3                 [nan, nan, nan, 1.0]         (0.0, 1.5)   \n",
       "4  box 2 and box 4                 [nan, nan, nan, nan]         (0.0, 0.0)   \n",
       "5  box 3 and box 4                 [1.0, nan, nan, nan]         (1.5, 0.0)   \n",
       "\n",
       "        Means  \n",
       "0  (1.5, 1.0)  \n",
       "1  (1.5, 4.5)  \n",
       "2  (1.5, 3.0)  \n",
       "3  (1.0, 4.5)  \n",
       "4  (1.0, 3.0)  \n",
       "5  (4.5, 3.0)  "
      ]
     },
     "execution_count": 119,
     "metadata": {},
     "output_type": "execute_result"
    }
   ],
   "source": [
    "correlations_df = pd.DataFrame(correlations.items(), columns=['box combination', 'correlation'])\n",
    "\n",
    "correlations_df['Standard deviation'] = stds\n",
    "correlations_df['Means'] = means\n",
    "correlations_df"
   ]
  },
  {
   "cell_type": "code",
   "execution_count": 103,
   "metadata": {},
   "outputs": [
    {
     "name": "stdout",
     "output_type": "stream",
     "text": [
      "box1 = array([2, 1])\n",
      "box2 = array([1, 1])\n",
      "box3 = array([6, 3])\n",
      "box4 = array([3, 3])\n"
     ]
    }
   ],
   "source": [
    "print(f'{box1 = }')\n",
    "print(f'{box2 = }')\n",
    "print(f'{box3 = }')\n",
    "print(f'{box4 = }')"
   ]
  },
  {
   "cell_type": "markdown",
   "metadata": {},
   "source": [
    "The most correlation is between box 1 and box 3 and then between box 2 and box 4, the correlation between these boxes can be seen as nan because their standard deviations are both equal to 0.0. "
   ]
  },
  {
   "cell_type": "markdown",
   "metadata": {},
   "source": [
    "### Q2 Which proximity measure would you use to group the boxes based on their size?\n",
    "Ans) The Euclidean distance is a good proximity measure to guage the similarities in size of two objects. Objects of similar size are closer on the coordinate plane and objects. Therefore smaller size objects have a less distance with other smaller sized objects compared to the distance between smaller size objects and bigger sized objects. "
   ]
  },
  {
   "cell_type": "code",
   "execution_count": 78,
   "metadata": {},
   "outputs": [],
   "source": [
    "def distance(v1, v2): # Euclidean Distance\n",
    "    return np.sqrt(np.sum((v1 - v2) ** 2))"
   ]
  },
  {
   "cell_type": "code",
   "execution_count": 82,
   "metadata": {},
   "outputs": [],
   "source": [
    "# Checking the distances of all boxes amongst each other\n",
    "\n",
    "boxes = [box1, box2, box3, box4]\n",
    "distances = {}\n",
    "for i in range(len(boxes)):\n",
    "    for j in range(i, len(boxes)):\n",
    "        if i == j:\n",
    "            continue\n",
    "        distances[str(f'box {i+1} and box {j+1}')] =  round(distance(boxes[i], boxes[j]), 2)"
   ]
  },
  {
   "cell_type": "code",
   "execution_count": 83,
   "metadata": {},
   "outputs": [
    {
     "data": {
      "text/html": [
       "<div>\n",
       "<style scoped>\n",
       "    .dataframe tbody tr th:only-of-type {\n",
       "        vertical-align: middle;\n",
       "    }\n",
       "\n",
       "    .dataframe tbody tr th {\n",
       "        vertical-align: top;\n",
       "    }\n",
       "\n",
       "    .dataframe thead th {\n",
       "        text-align: right;\n",
       "    }\n",
       "</style>\n",
       "<table border=\"1\" class=\"dataframe\">\n",
       "  <thead>\n",
       "    <tr style=\"text-align: right;\">\n",
       "      <th></th>\n",
       "      <th>box combination</th>\n",
       "      <th>distance</th>\n",
       "    </tr>\n",
       "  </thead>\n",
       "  <tbody>\n",
       "    <tr>\n",
       "      <th>0</th>\n",
       "      <td>box 1 and box 2</td>\n",
       "      <td>1.00</td>\n",
       "    </tr>\n",
       "    <tr>\n",
       "      <th>2</th>\n",
       "      <td>box 1 and box 4</td>\n",
       "      <td>2.24</td>\n",
       "    </tr>\n",
       "    <tr>\n",
       "      <th>4</th>\n",
       "      <td>box 2 and box 4</td>\n",
       "      <td>2.83</td>\n",
       "    </tr>\n",
       "    <tr>\n",
       "      <th>5</th>\n",
       "      <td>box 3 and box 4</td>\n",
       "      <td>3.00</td>\n",
       "    </tr>\n",
       "    <tr>\n",
       "      <th>1</th>\n",
       "      <td>box 1 and box 3</td>\n",
       "      <td>4.47</td>\n",
       "    </tr>\n",
       "    <tr>\n",
       "      <th>3</th>\n",
       "      <td>box 2 and box 3</td>\n",
       "      <td>5.39</td>\n",
       "    </tr>\n",
       "  </tbody>\n",
       "</table>\n",
       "</div>"
      ],
      "text/plain": [
       "   box combination  distance\n",
       "0  box 1 and box 2      1.00\n",
       "2  box 1 and box 4      2.24\n",
       "4  box 2 and box 4      2.83\n",
       "5  box 3 and box 4      3.00\n",
       "1  box 1 and box 3      4.47\n",
       "3  box 2 and box 3      5.39"
      ]
     },
     "execution_count": 83,
     "metadata": {},
     "output_type": "execute_result"
    }
   ],
   "source": [
    "distances_df = pd.DataFrame(distances.items(), columns=['box combination', 'distance'])\n",
    "\n",
    "distances_df.sort_values(by='distance', ascending=True)"
   ]
  },
  {
   "cell_type": "code",
   "execution_count": 81,
   "metadata": {},
   "outputs": [
    {
     "name": "stdout",
     "output_type": "stream",
     "text": [
      "1.0\n",
      "3.0\n"
     ]
    }
   ],
   "source": [
    "print(distance(box1, box2))\n",
    "print(distance(box4, box3))"
   ]
  },
  {
   "cell_type": "markdown",
   "metadata": {},
   "source": [
    "we can see that the closest objects are box 1 and box 2 and the next closest are box 3 and box 4 thereby grouping them together by size using Euclidean Distance proximity metric"
   ]
  }
 ],
 "metadata": {
  "kernelspec": {
   "display_name": "Python 3.9.9 ('env': venv)",
   "language": "python",
   "name": "python3"
  },
  "language_info": {
   "codemirror_mode": {
    "name": "ipython",
    "version": 3
   },
   "file_extension": ".py",
   "mimetype": "text/x-python",
   "name": "python",
   "nbconvert_exporter": "python",
   "pygments_lexer": "ipython3",
   "version": "3.9.9"
  },
  "orig_nbformat": 4,
  "vscode": {
   "interpreter": {
    "hash": "69c04f2d7bf4d730279ba4117e26ea96538a7629df7fcb95df34077d07cf5e30"
   }
  }
 },
 "nbformat": 4,
 "nbformat_minor": 2
}
