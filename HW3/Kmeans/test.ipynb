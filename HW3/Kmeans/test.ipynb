{
 "cells": [
  {
   "cell_type": "code",
   "execution_count": 19,
   "metadata": {},
   "outputs": [],
   "source": [
    "import numpy as np\n",
    "import math\n",
    "import time"
   ]
  },
  {
   "cell_type": "code",
   "execution_count": 20,
   "metadata": {},
   "outputs": [],
   "source": [
    "def euclidean_distance(p1, p2):\n",
    "    distance = 0\n",
    "    for a, b in zip(p1, p2):\n",
    "        distance += (a - b) ** 2\n",
    "    return math.sqrt(distance)\n",
    "\n",
    "def numpy_ed(p1, p2):\n",
    "    return np.linalg.norm(p1-p2)\n",
    "\n"
   ]
  },
  {
   "cell_type": "code",
   "execution_count": 35,
   "metadata": {},
   "outputs": [
    {
     "name": "stdout",
     "output_type": "stream",
     "text": [
      "0.5890735156428801\n",
      "0.0005257129669189453\n",
      "0.5890735156428801\n",
      "0.0002231597900390625\n"
     ]
    }
   ],
   "source": [
    "np.random.seed(0)\n",
    "a = np.random.random_sample((5,))\n",
    "b = np.random.random_sample((5,))\n",
    "start_time = time.time()\n",
    "ed = euclidean_distance(a, b)\n",
    "print(ed)\n",
    "print(time.time() - start_time)\n",
    "start_time = time.time()\n",
    "ed = numpy_ed(a, b)\n",
    "print(ed)\n",
    "print(time.time() - start_time)\n"
   ]
  },
  {
   "cell_type": "code",
   "execution_count": null,
   "metadata": {},
   "outputs": [],
   "source": []
  },
  {
   "cell_type": "code",
   "execution_count": null,
   "metadata": {},
   "outputs": [],
   "source": []
  }
 ],
 "metadata": {
  "kernelspec": {
   "display_name": "Python 3.9.9 64-bit",
   "language": "python",
   "name": "python3"
  },
  "language_info": {
   "codemirror_mode": {
    "name": "ipython",
    "version": 3
   },
   "file_extension": ".py",
   "mimetype": "text/x-python",
   "name": "python",
   "nbconvert_exporter": "python",
   "pygments_lexer": "ipython3",
   "version": "3.9.9"
  },
  "orig_nbformat": 4,
  "vscode": {
   "interpreter": {
    "hash": "aee8b7b246df8f9039afb4144a1f6fd8d2ca17a180786b69acc140d282b71a49"
   }
  }
 },
 "nbformat": 4,
 "nbformat_minor": 2
}
