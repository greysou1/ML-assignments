{
 "cells": [
  {
   "cell_type": "markdown",
   "metadata": {},
   "source": [
    "#### load packages"
   ]
  },
  {
   "cell_type": "code",
   "execution_count": 1,
   "metadata": {},
   "outputs": [],
   "source": [
    "import time\n",
    "import pandas as pd\n",
    "from KMeans import KMeans\n",
    "\n",
    "from distances import *\n",
    "from helper import *"
   ]
  },
  {
   "cell_type": "markdown",
   "metadata": {},
   "source": [
    "#### load data"
   ]
  },
  {
   "cell_type": "code",
   "execution_count": 24,
   "metadata": {},
   "outputs": [
    {
     "name": "stdout",
     "output_type": "stream",
     "text": [
      "{0: 980, 1: 1135, 2: 1032, 3: 1010, 4: 982, 5: 892, 6: 958, 7: 1027, 8: 974, 9: 1009}\n"
     ]
    }
   ],
   "source": [
    "label = pd.read_csv('kmeans_data/label.csv').to_numpy()\n",
    "data = pd.read_csv('kmeans_data/data.csv').to_numpy()\n",
    "\n",
    "arr = []\n",
    "for row in range(len(data)):\n",
    "  temp = []\n",
    "  for col in range(len(data[row])):\n",
    "    temp.append(data[row][col])\n",
    "  temp.append(label[row][0])\n",
    "  arr.append(temp)\n",
    "\n",
    "arr = sorted(arr, key=lambda x: x[len(arr[0])-1], reverse=False)\n",
    "\n",
    "\n",
    "target_labels = dict(label_cluster(arr))\n",
    "print(target_labels)"
   ]
  },
  {
   "cell_type": "markdown",
   "metadata": {},
   "source": [
    "### "
   ]
  },
  {
   "cell_type": "code",
   "execution_count": 37,
   "metadata": {},
   "outputs": [],
   "source": [
    "distances = ['euclidean', 'cosine', 'jaccard']\n",
    "def run(max_iters=10, new_stop_criteria=False):\n",
    "  dist_sses = []\n",
    "  dist_accs = []\n",
    "  dist_times = []\n",
    "  dist_iters = []\n",
    "  for dist in distances:\n",
    "    start_time = time.time()\n",
    "    print(('='*15)+' '+dist+' '+('='*15))\n",
    "    kmeans = KMeans(dist=dist, max_iters=max_iters, new_stop_criteria=new_stop_criteria)\n",
    "    print('='*45)\n",
    "    centroids, clusters = kmeans.fit(arr)\n",
    "\n",
    "    labels = get_labels(clusters)\n",
    "\n",
    "    # plot(clusters, centroids)\n",
    "    \n",
    "    time_taken = time.time() - start_time\n",
    "    print('\\n{} STATS:'.format(dist.upper()))\n",
    "    print('Total time taken: {}'.format(time_taken))\n",
    "    print('SSE = ', kmeans.SSEs[-1])\n",
    "    print('Accuracy = {:3f}'.format(get_accuracy(labels, target_labels)))\n",
    "\n",
    "    print('Original Labels: ', target_labels)\n",
    "    print('Predicted Labels: ', labels)\n",
    "    dist_sses.append(kmeans.SSEs[-1])\n",
    "    dist_accs.append(get_accuracy(labels, target_labels))\n",
    "    dist_times.append(time_taken)\n",
    "    dist_iters.append(len(kmeans.SSEs))\n",
    "\n",
    "  return dist_sses, dist_accs, dist_times, dist_iters"
   ]
  },
  {
   "cell_type": "code",
   "execution_count": 44,
   "metadata": {},
   "outputs": [
    {
     "name": "stdout",
     "output_type": "stream",
     "text": [
      "=============== euclidean ===============\n",
      "Iteration 1/1: SSE: 16338269.05230105 \n",
      "EUCLIDEAN STATS:\n",
      "Total time taken: 25.894947052001953\n",
      "SSE =  16338269.05230105\n",
      "Accuracy = 0.307031\n",
      "Original Labels:  {0: 980, 1: 1135, 2: 1032, 3: 1010, 4: 982, 5: 892, 6: 958, 7: 1027, 8: 974, 9: 1009}\n",
      "Predicted Labels:  {0: 3, 1: 719, 2: 313, 3: 250, 4: 434, 5: 0, 6: 564, 7: 448, 8: 339, 9: 0}\n",
      "=============== cosine ===============\n",
      "Iteration 1/1: SSE: 16746488.780305672 \n",
      "COSINE STATS:\n",
      "Total time taken: 13.812814235687256\n",
      "SSE =  16746488.780305672\n",
      "Accuracy = 0.238024\n",
      "Original Labels:  {0: 980, 1: 1135, 2: 1032, 3: 1010, 4: 982, 5: 892, 6: 958, 7: 1027, 8: 974, 9: 1009}\n",
      "Predicted Labels:  {0: 5, 1: 555, 2: 242, 3: 295, 4: 68, 5: 0, 6: 286, 7: 327, 8: 602, 9: 0}\n",
      "=============== jaccard ===============\n",
      "Iteration 1/1: SSE: 16573388.3194307 \n",
      "JACCARD STATS:\n",
      "Total time taken: 20.977738857269287\n",
      "SSE =  16573388.3194307\n",
      "Accuracy = 0.392139\n",
      "Original Labels:  {0: 980, 1: 1135, 2: 1032, 3: 1010, 4: 982, 5: 892, 6: 958, 7: 1027, 8: 974, 9: 1009}\n",
      "Predicted Labels:  {0: 1, 1: 785, 2: 505, 3: 727, 4: 49, 5: 0, 6: 768, 7: 328, 8: 365, 9: 393}\n"
     ]
    }
   ],
   "source": [
    "dist_sses, dist_accs, dist_times, dist_iters = run(max_iters=1)  "
   ]
  },
  {
   "cell_type": "code",
   "execution_count": 45,
   "metadata": {},
   "outputs": [
    {
     "name": "stdout",
     "output_type": "stream",
     "text": [
      "Q1: Compare the SSEs of Euclidean-K-means, Cosine-K-means, Jarcard-K-means. Which method is better?\n",
      "EUCLIDEAN SSE: 16338269.052\n",
      "COSINE SSE: 16746488.780\n",
      "JACCARD SSE: 16573388.319\n",
      "The best method seems to be euclidean\n",
      "\n",
      "Q2: Compare the accuracies of Euclidean-K-means Cosine-K-means, Jarcard-K-means. Which method is better?\n",
      "EUCLIDEAN Accuracy: 30.70%\n",
      "COSINE Accuracy: 23.80%\n",
      "JACCARD Accuracy: 39.21%\n",
      "The best method seems to be jaccard\n"
     ]
    }
   ],
   "source": [
    "print('Q1: Compare the SSEs of Euclidean-K-means, Cosine-K-means, Jarcard-K-means. Which method is better?')\n",
    "for distance, dist_sse in zip(distances, dist_sses):\n",
    "  print('{} SSE: {:.3f}'.format(distance.upper(), dist_sse))\n",
    "\n",
    "print('The best method seems to be', distances[dist_sses.index(min(dist_sses))]) \n",
    "\n",
    "print('\\nQ2: Compare the accuracies of Euclidean-K-means Cosine-K-means, Jarcard-K-means. Which method is better?')\n",
    "for distance, dist_acc in zip(distances, dist_accs):\n",
    "  print('{} Accuracy: {:.2f}%'.format(distance.upper(), dist_acc*100))\n",
    "\n",
    "print('The best method seems to be', distances[dist_accs.index(max(dist_accs))]) "
   ]
  },
  {
   "cell_type": "code",
   "execution_count": 38,
   "metadata": {},
   "outputs": [
    {
     "name": "stdout",
     "output_type": "stream",
     "text": [
      "=============== euclidean ===============\n",
      "Iteration 1/2: SSE: 16739006.55721112 \n",
      "Iteration 2/2: SSE: 16264625.602816857 \n",
      "EUCLIDEAN STATS:\n",
      "Total time taken: 250.7044939994812\n",
      "SSE =  16264625.602816857\n",
      "Accuracy = 0.239824\n",
      "Original Labels:  {0: 980, 1: 1135, 2: 1032, 3: 1010, 4: 982, 5: 892, 6: 958, 7: 1027, 8: 974, 9: 1009}\n",
      "Predicted Labels:  {0: 2, 1: 808, 2: 13, 3: 45, 4: 101, 5: 140, 6: 339, 7: 551, 8: 0, 9: 399}\n",
      "=============== cosine ===============\n",
      "Iteration 1/2: SSE: 16947943.40821319 \n",
      "Iteration 2/2: SSE: 16236987.501018105 \n",
      "COSINE STATS:\n",
      "Total time taken: 26.94102692604065\n",
      "SSE =  16236987.501018105\n",
      "Accuracy = 0.171017\n",
      "Original Labels:  {0: 980, 1: 1135, 2: 1032, 3: 1010, 4: 982, 5: 892, 6: 958, 7: 1027, 8: 974, 9: 1009}\n",
      "Predicted Labels:  {0: 1, 1: 443, 2: 18, 3: 11, 4: 22, 5: 46, 6: 395, 7: 396, 8: 378, 9: 0}\n",
      "=============== jaccard ===============\n",
      "Iteration 1/2: SSE: 16453819.508534534 \n",
      "Iteration 2/2: SSE: 16031031.683421243 \n",
      "JACCARD STATS:\n",
      "Total time taken: 42.59123206138611\n",
      "SSE =  16031031.683421243\n",
      "Accuracy = 0.181518\n",
      "Original Labels:  {0: 980, 1: 1135, 2: 1032, 3: 1010, 4: 982, 5: 892, 6: 958, 7: 1027, 8: 974, 9: 1009}\n",
      "Predicted Labels:  {0: 2, 1: 3, 2: 12, 3: 17, 4: 421, 5: 0, 6: 527, 7: 530, 8: 0, 9: 303}\n"
     ]
    }
   ],
   "source": [
    "dist_sses, dist_accs, dist_times, dist_iters = run(max_iters=2, new_stop_criteria=True)  "
   ]
  },
  {
   "cell_type": "code",
   "execution_count": 43,
   "metadata": {},
   "outputs": [
    {
     "name": "stdout",
     "output_type": "stream",
     "text": [
      "Q3:  Which method requires more iterations and times to converge? (New stop criteria)\n",
      "EUCLIDEAN total iterations: 2, total time taken: 250.7044939994812\n",
      "COSINE total iterations: 2, total time taken: 26.94102692604065\n",
      "JACCARD total iterations: 2, total time taken: 42.59123206138611\n",
      "The best method with least iterations seems to be  euclidean\n",
      "The best method with least time seems to be  cosine\n",
      "\n",
      "Q4: Compare the SSEs of Euclidean-K-means Cosine-K-means, Jarcard-K-means (New stop criteria). Which method is better?\n",
      "EUCLIDEAN SSE: 16264625.602816857\n",
      "COSINE SSE: 16236987.501018105\n",
      "JACCARD SSE: 16031031.683421243\n",
      "The best method with least SSE seems to be  jaccard\n"
     ]
    }
   ],
   "source": [
    "print('Q3:  Which method requires more iterations and times to converge? (New stop criteria)')\n",
    "for distance, dist_iter, dist_time in zip(distances, dist_iters, dist_times):\n",
    "  print('{} total iterations: {}, total time taken: {:.2f}s'.format(distance.upper(), dist_iter, dist_time))\n",
    "\n",
    "print('The best method with least iterations seems to be', distances[dist_iters.index(min(dist_iters))]) \n",
    "print('The best method with least time seems to be', distances[dist_times.index(min(dist_times))]) \n",
    "\n",
    "print('\\nQ4: Compare the SSEs of Euclidean-K-means Cosine-K-means, Jarcard-K-means (New stop criteria). Which method is better?')\n",
    "for distance, dist_sse in zip(distances, dist_sses):\n",
    "  print('{} SSE: {}'.format(distance.upper(), dist_sse))\n",
    "\n",
    "print('The best method with least SSE seems to be', distances[dist_sses.index(min(dist_sses))]) \n",
    "\n",
    "\n",
    "    "
   ]
  },
  {
   "cell_type": "code",
   "execution_count": 35,
   "metadata": {},
   "outputs": [
    {
     "data": {
      "text/plain": [
       "[16067968.58279442, 16193724.08551616, 15908455.231407944]"
      ]
     },
     "execution_count": 35,
     "metadata": {},
     "output_type": "execute_result"
    }
   ],
   "source": [
    "# [len(x) for x in dist_sses]\n",
    "dist_sses"
   ]
  },
  {
   "cell_type": "code",
   "execution_count": null,
   "metadata": {},
   "outputs": [],
   "source": []
  }
 ],
 "metadata": {
  "kernelspec": {
   "display_name": "Python 3.9.9 64-bit",
   "language": "python",
   "name": "python3"
  },
  "language_info": {
   "codemirror_mode": {
    "name": "ipython",
    "version": 3
   },
   "file_extension": ".py",
   "mimetype": "text/x-python",
   "name": "python",
   "nbconvert_exporter": "python",
   "pygments_lexer": "ipython3",
   "version": "3.9.9"
  },
  "orig_nbformat": 4,
  "vscode": {
   "interpreter": {
    "hash": "aee8b7b246df8f9039afb4144a1f6fd8d2ca17a180786b69acc140d282b71a49"
   }
  }
 },
 "nbformat": 4,
 "nbformat_minor": 2
}
